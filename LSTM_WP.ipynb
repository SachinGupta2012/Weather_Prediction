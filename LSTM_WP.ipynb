{
  "nbformat": 4,
  "nbformat_minor": 0,
  "metadata": {
    "colab": {
      "provenance": []
    },
    "kernelspec": {
      "name": "python3",
      "display_name": "Python 3"
    },
    "language_info": {
      "name": "python"
    }
  },
  "cells": [
    {
      "cell_type": "code",
      "execution_count": null,
      "metadata": {
        "id": "sxXyK48pUzU6"
      },
      "outputs": [],
      "source": [
        "from google.colab import files"
      ]
    },
    {
      "cell_type": "code",
      "source": [
        "files.upload()"
      ],
      "metadata": {
        "colab": {
          "base_uri": "https://localhost:8080/",
          "height": 90
        },
        "id": "ESEbRmV5U1KT",
        "outputId": "dacab9b9-56fe-4200-f17a-fb9a2268c60c"
      },
      "execution_count": null,
      "outputs": [
        {
          "output_type": "display_data",
          "data": {
            "text/plain": [
              "<IPython.core.display.HTML object>"
            ],
            "text/html": [
              "\n",
              "     <input type=\"file\" id=\"files-c9fd7bfa-bed0-4937-be86-77d5911e04fd\" name=\"files[]\" multiple disabled\n",
              "        style=\"border:none\" />\n",
              "     <output id=\"result-c9fd7bfa-bed0-4937-be86-77d5911e04fd\">\n",
              "      Upload widget is only available when the cell has been executed in the\n",
              "      current browser session. Please rerun this cell to enable.\n",
              "      </output>\n",
              "      <script>// Copyright 2017 Google LLC\n",
              "//\n",
              "// Licensed under the Apache License, Version 2.0 (the \"License\");\n",
              "// you may not use this file except in compliance with the License.\n",
              "// You may obtain a copy of the License at\n",
              "//\n",
              "//      http://www.apache.org/licenses/LICENSE-2.0\n",
              "//\n",
              "// Unless required by applicable law or agreed to in writing, software\n",
              "// distributed under the License is distributed on an \"AS IS\" BASIS,\n",
              "// WITHOUT WARRANTIES OR CONDITIONS OF ANY KIND, either express or implied.\n",
              "// See the License for the specific language governing permissions and\n",
              "// limitations under the License.\n",
              "\n",
              "/**\n",
              " * @fileoverview Helpers for google.colab Python module.\n",
              " */\n",
              "(function(scope) {\n",
              "function span(text, styleAttributes = {}) {\n",
              "  const element = document.createElement('span');\n",
              "  element.textContent = text;\n",
              "  for (const key of Object.keys(styleAttributes)) {\n",
              "    element.style[key] = styleAttributes[key];\n",
              "  }\n",
              "  return element;\n",
              "}\n",
              "\n",
              "// Max number of bytes which will be uploaded at a time.\n",
              "const MAX_PAYLOAD_SIZE = 100 * 1024;\n",
              "\n",
              "function _uploadFiles(inputId, outputId) {\n",
              "  const steps = uploadFilesStep(inputId, outputId);\n",
              "  const outputElement = document.getElementById(outputId);\n",
              "  // Cache steps on the outputElement to make it available for the next call\n",
              "  // to uploadFilesContinue from Python.\n",
              "  outputElement.steps = steps;\n",
              "\n",
              "  return _uploadFilesContinue(outputId);\n",
              "}\n",
              "\n",
              "// This is roughly an async generator (not supported in the browser yet),\n",
              "// where there are multiple asynchronous steps and the Python side is going\n",
              "// to poll for completion of each step.\n",
              "// This uses a Promise to block the python side on completion of each step,\n",
              "// then passes the result of the previous step as the input to the next step.\n",
              "function _uploadFilesContinue(outputId) {\n",
              "  const outputElement = document.getElementById(outputId);\n",
              "  const steps = outputElement.steps;\n",
              "\n",
              "  const next = steps.next(outputElement.lastPromiseValue);\n",
              "  return Promise.resolve(next.value.promise).then((value) => {\n",
              "    // Cache the last promise value to make it available to the next\n",
              "    // step of the generator.\n",
              "    outputElement.lastPromiseValue = value;\n",
              "    return next.value.response;\n",
              "  });\n",
              "}\n",
              "\n",
              "/**\n",
              " * Generator function which is called between each async step of the upload\n",
              " * process.\n",
              " * @param {string} inputId Element ID of the input file picker element.\n",
              " * @param {string} outputId Element ID of the output display.\n",
              " * @return {!Iterable<!Object>} Iterable of next steps.\n",
              " */\n",
              "function* uploadFilesStep(inputId, outputId) {\n",
              "  const inputElement = document.getElementById(inputId);\n",
              "  inputElement.disabled = false;\n",
              "\n",
              "  const outputElement = document.getElementById(outputId);\n",
              "  outputElement.innerHTML = '';\n",
              "\n",
              "  const pickedPromise = new Promise((resolve) => {\n",
              "    inputElement.addEventListener('change', (e) => {\n",
              "      resolve(e.target.files);\n",
              "    });\n",
              "  });\n",
              "\n",
              "  const cancel = document.createElement('button');\n",
              "  inputElement.parentElement.appendChild(cancel);\n",
              "  cancel.textContent = 'Cancel upload';\n",
              "  const cancelPromise = new Promise((resolve) => {\n",
              "    cancel.onclick = () => {\n",
              "      resolve(null);\n",
              "    };\n",
              "  });\n",
              "\n",
              "  // Wait for the user to pick the files.\n",
              "  const files = yield {\n",
              "    promise: Promise.race([pickedPromise, cancelPromise]),\n",
              "    response: {\n",
              "      action: 'starting',\n",
              "    }\n",
              "  };\n",
              "\n",
              "  cancel.remove();\n",
              "\n",
              "  // Disable the input element since further picks are not allowed.\n",
              "  inputElement.disabled = true;\n",
              "\n",
              "  if (!files) {\n",
              "    return {\n",
              "      response: {\n",
              "        action: 'complete',\n",
              "      }\n",
              "    };\n",
              "  }\n",
              "\n",
              "  for (const file of files) {\n",
              "    const li = document.createElement('li');\n",
              "    li.append(span(file.name, {fontWeight: 'bold'}));\n",
              "    li.append(span(\n",
              "        `(${file.type || 'n/a'}) - ${file.size} bytes, ` +\n",
              "        `last modified: ${\n",
              "            file.lastModifiedDate ? file.lastModifiedDate.toLocaleDateString() :\n",
              "                                    'n/a'} - `));\n",
              "    const percent = span('0% done');\n",
              "    li.appendChild(percent);\n",
              "\n",
              "    outputElement.appendChild(li);\n",
              "\n",
              "    const fileDataPromise = new Promise((resolve) => {\n",
              "      const reader = new FileReader();\n",
              "      reader.onload = (e) => {\n",
              "        resolve(e.target.result);\n",
              "      };\n",
              "      reader.readAsArrayBuffer(file);\n",
              "    });\n",
              "    // Wait for the data to be ready.\n",
              "    let fileData = yield {\n",
              "      promise: fileDataPromise,\n",
              "      response: {\n",
              "        action: 'continue',\n",
              "      }\n",
              "    };\n",
              "\n",
              "    // Use a chunked sending to avoid message size limits. See b/62115660.\n",
              "    let position = 0;\n",
              "    do {\n",
              "      const length = Math.min(fileData.byteLength - position, MAX_PAYLOAD_SIZE);\n",
              "      const chunk = new Uint8Array(fileData, position, length);\n",
              "      position += length;\n",
              "\n",
              "      const base64 = btoa(String.fromCharCode.apply(null, chunk));\n",
              "      yield {\n",
              "        response: {\n",
              "          action: 'append',\n",
              "          file: file.name,\n",
              "          data: base64,\n",
              "        },\n",
              "      };\n",
              "\n",
              "      let percentDone = fileData.byteLength === 0 ?\n",
              "          100 :\n",
              "          Math.round((position / fileData.byteLength) * 100);\n",
              "      percent.textContent = `${percentDone}% done`;\n",
              "\n",
              "    } while (position < fileData.byteLength);\n",
              "  }\n",
              "\n",
              "  // All done.\n",
              "  yield {\n",
              "    response: {\n",
              "      action: 'complete',\n",
              "    }\n",
              "  };\n",
              "}\n",
              "\n",
              "scope.google = scope.google || {};\n",
              "scope.google.colab = scope.google.colab || {};\n",
              "scope.google.colab._files = {\n",
              "  _uploadFiles,\n",
              "  _uploadFilesContinue,\n",
              "};\n",
              "})(self);\n",
              "</script> "
            ]
          },
          "metadata": {}
        },
        {
          "output_type": "stream",
          "name": "stdout",
          "text": [
            "Saving kaggle.json to kaggle.json\n"
          ]
        },
        {
          "output_type": "execute_result",
          "data": {
            "text/plain": [
              "{'kaggle.json': b'{\"username\":\"sachin099\",\"key\":\"f6bd9b7688a5358dcddbe233aa83f959\"}'}"
            ]
          },
          "metadata": {},
          "execution_count": 2
        }
      ]
    },
    {
      "cell_type": "code",
      "source": [
        "!mkdir ~/.kaggle"
      ],
      "metadata": {
        "id": "A2Cmz7WWU2Oa"
      },
      "execution_count": null,
      "outputs": []
    },
    {
      "cell_type": "code",
      "source": [
        "!mv /content/kaggle.json ~/.kaggle"
      ],
      "metadata": {
        "colab": {
          "base_uri": "https://localhost:8080/"
        },
        "id": "Nkl9W96IU_qM",
        "outputId": "516950c2-498d-4a74-9dd1-3bddb48134f8"
      },
      "execution_count": null,
      "outputs": [
        {
          "output_type": "stream",
          "name": "stdout",
          "text": [
            "mv: cannot stat '/content/kaggle.json': No such file or directory\n"
          ]
        }
      ]
    },
    {
      "cell_type": "code",
      "source": [
        "!chmod 600 ~/.kaggle/kaggle.json"
      ],
      "metadata": {
        "id": "B9aWiGz1VIJo"
      },
      "execution_count": null,
      "outputs": []
    },
    {
      "cell_type": "code",
      "source": [
        "!pip install kaggle"
      ],
      "metadata": {
        "colab": {
          "base_uri": "https://localhost:8080/"
        },
        "id": "6m9dELJFVK1M",
        "outputId": "fad6a9b9-ae4b-4c09-b6d4-196a8a73bc5a"
      },
      "execution_count": null,
      "outputs": [
        {
          "output_type": "stream",
          "name": "stdout",
          "text": [
            "Requirement already satisfied: kaggle in /usr/local/lib/python3.10/dist-packages (1.6.17)\n",
            "Requirement already satisfied: six>=1.10 in /usr/local/lib/python3.10/dist-packages (from kaggle) (1.16.0)\n",
            "Requirement already satisfied: certifi>=2023.7.22 in /usr/local/lib/python3.10/dist-packages (from kaggle) (2024.8.30)\n",
            "Requirement already satisfied: python-dateutil in /usr/local/lib/python3.10/dist-packages (from kaggle) (2.8.2)\n",
            "Requirement already satisfied: requests in /usr/local/lib/python3.10/dist-packages (from kaggle) (2.32.3)\n",
            "Requirement already satisfied: tqdm in /usr/local/lib/python3.10/dist-packages (from kaggle) (4.66.5)\n",
            "Requirement already satisfied: python-slugify in /usr/local/lib/python3.10/dist-packages (from kaggle) (8.0.4)\n",
            "Requirement already satisfied: urllib3 in /usr/local/lib/python3.10/dist-packages (from kaggle) (2.2.3)\n",
            "Requirement already satisfied: bleach in /usr/local/lib/python3.10/dist-packages (from kaggle) (6.1.0)\n",
            "Requirement already satisfied: webencodings in /usr/local/lib/python3.10/dist-packages (from bleach->kaggle) (0.5.1)\n",
            "Requirement already satisfied: text-unidecode>=1.3 in /usr/local/lib/python3.10/dist-packages (from python-slugify->kaggle) (1.3)\n",
            "Requirement already satisfied: charset-normalizer<4,>=2 in /usr/local/lib/python3.10/dist-packages (from requests->kaggle) (3.4.0)\n",
            "Requirement already satisfied: idna<4,>=2.5 in /usr/local/lib/python3.10/dist-packages (from requests->kaggle) (3.10)\n"
          ]
        }
      ]
    },
    {
      "cell_type": "code",
      "source": [
        "!kaggle datasets download -d ananthr1/weather-prediction"
      ],
      "metadata": {
        "colab": {
          "base_uri": "https://localhost:8080/"
        },
        "id": "AnSW1G-rVMMJ",
        "outputId": "a263e019-13e8-4610-9c98-6223096218c5"
      },
      "execution_count": null,
      "outputs": [
        {
          "output_type": "stream",
          "name": "stdout",
          "text": [
            "Dataset URL: https://www.kaggle.com/datasets/ananthr1/weather-prediction\n",
            "License(s): CC-BY-NC-SA-4.0\n",
            "Downloading weather-prediction.zip to /content\n",
            "  0% 0.00/11.5k [00:00<?, ?B/s]\n",
            "100% 11.5k/11.5k [00:00<00:00, 21.1MB/s]\n"
          ]
        }
      ]
    },
    {
      "cell_type": "code",
      "source": [
        "!unzip /content/weather-prediction.zip"
      ],
      "metadata": {
        "colab": {
          "base_uri": "https://localhost:8080/"
        },
        "id": "rJA3NT6FVQZQ",
        "outputId": "2aaa1027-8e43-4708-a2b5-de6bcded5506"
      },
      "execution_count": null,
      "outputs": [
        {
          "output_type": "stream",
          "name": "stdout",
          "text": [
            "Archive:  /content/weather-prediction.zip\n",
            "  inflating: seattle-weather.csv     \n"
          ]
        }
      ]
    },
    {
      "cell_type": "code",
      "source": [
        "import numpy as np\n",
        "import pandas as pd\n",
        "import matplotlib.pyplot as plt\n",
        "import seaborn as sns\n",
        "from sklearn.preprocessing import MinMaxScaler"
      ],
      "metadata": {
        "id": "Na_M5RdSVQwi"
      },
      "execution_count": null,
      "outputs": []
    },
    {
      "cell_type": "code",
      "source": [
        "data= pd.read_csv(\"/content/seattle-weather.csv\")\n",
        "data.dropna(inplace=True)\n",
        "data"
      ],
      "metadata": {
        "colab": {
          "base_uri": "https://localhost:8080/",
          "height": 424
        },
        "id": "YwwnR4eZVcfx",
        "outputId": "dcc049f7-4d09-4556-9813-5afaf6d88461"
      },
      "execution_count": null,
      "outputs": [
        {
          "output_type": "execute_result",
          "data": {
            "text/plain": [
              "            date  precipitation  temp_max  temp_min  wind  weather\n",
              "0     2012-01-01            0.0      12.8       5.0   4.7  drizzle\n",
              "1     2012-01-02           10.9      10.6       2.8   4.5     rain\n",
              "2     2012-01-03            0.8      11.7       7.2   2.3     rain\n",
              "3     2012-01-04           20.3      12.2       5.6   4.7     rain\n",
              "4     2012-01-05            1.3       8.9       2.8   6.1     rain\n",
              "...          ...            ...       ...       ...   ...      ...\n",
              "1456  2015-12-27            8.6       4.4       1.7   2.9     rain\n",
              "1457  2015-12-28            1.5       5.0       1.7   1.3     rain\n",
              "1458  2015-12-29            0.0       7.2       0.6   2.6      fog\n",
              "1459  2015-12-30            0.0       5.6      -1.0   3.4      sun\n",
              "1460  2015-12-31            0.0       5.6      -2.1   3.5      sun\n",
              "\n",
              "[1461 rows x 6 columns]"
            ],
            "text/html": [
              "\n",
              "  <div id=\"df-af8307b6-bfc9-4d09-a063-56227f5f28c2\" class=\"colab-df-container\">\n",
              "    <div>\n",
              "<style scoped>\n",
              "    .dataframe tbody tr th:only-of-type {\n",
              "        vertical-align: middle;\n",
              "    }\n",
              "\n",
              "    .dataframe tbody tr th {\n",
              "        vertical-align: top;\n",
              "    }\n",
              "\n",
              "    .dataframe thead th {\n",
              "        text-align: right;\n",
              "    }\n",
              "</style>\n",
              "<table border=\"1\" class=\"dataframe\">\n",
              "  <thead>\n",
              "    <tr style=\"text-align: right;\">\n",
              "      <th></th>\n",
              "      <th>date</th>\n",
              "      <th>precipitation</th>\n",
              "      <th>temp_max</th>\n",
              "      <th>temp_min</th>\n",
              "      <th>wind</th>\n",
              "      <th>weather</th>\n",
              "    </tr>\n",
              "  </thead>\n",
              "  <tbody>\n",
              "    <tr>\n",
              "      <th>0</th>\n",
              "      <td>2012-01-01</td>\n",
              "      <td>0.0</td>\n",
              "      <td>12.8</td>\n",
              "      <td>5.0</td>\n",
              "      <td>4.7</td>\n",
              "      <td>drizzle</td>\n",
              "    </tr>\n",
              "    <tr>\n",
              "      <th>1</th>\n",
              "      <td>2012-01-02</td>\n",
              "      <td>10.9</td>\n",
              "      <td>10.6</td>\n",
              "      <td>2.8</td>\n",
              "      <td>4.5</td>\n",
              "      <td>rain</td>\n",
              "    </tr>\n",
              "    <tr>\n",
              "      <th>2</th>\n",
              "      <td>2012-01-03</td>\n",
              "      <td>0.8</td>\n",
              "      <td>11.7</td>\n",
              "      <td>7.2</td>\n",
              "      <td>2.3</td>\n",
              "      <td>rain</td>\n",
              "    </tr>\n",
              "    <tr>\n",
              "      <th>3</th>\n",
              "      <td>2012-01-04</td>\n",
              "      <td>20.3</td>\n",
              "      <td>12.2</td>\n",
              "      <td>5.6</td>\n",
              "      <td>4.7</td>\n",
              "      <td>rain</td>\n",
              "    </tr>\n",
              "    <tr>\n",
              "      <th>4</th>\n",
              "      <td>2012-01-05</td>\n",
              "      <td>1.3</td>\n",
              "      <td>8.9</td>\n",
              "      <td>2.8</td>\n",
              "      <td>6.1</td>\n",
              "      <td>rain</td>\n",
              "    </tr>\n",
              "    <tr>\n",
              "      <th>...</th>\n",
              "      <td>...</td>\n",
              "      <td>...</td>\n",
              "      <td>...</td>\n",
              "      <td>...</td>\n",
              "      <td>...</td>\n",
              "      <td>...</td>\n",
              "    </tr>\n",
              "    <tr>\n",
              "      <th>1456</th>\n",
              "      <td>2015-12-27</td>\n",
              "      <td>8.6</td>\n",
              "      <td>4.4</td>\n",
              "      <td>1.7</td>\n",
              "      <td>2.9</td>\n",
              "      <td>rain</td>\n",
              "    </tr>\n",
              "    <tr>\n",
              "      <th>1457</th>\n",
              "      <td>2015-12-28</td>\n",
              "      <td>1.5</td>\n",
              "      <td>5.0</td>\n",
              "      <td>1.7</td>\n",
              "      <td>1.3</td>\n",
              "      <td>rain</td>\n",
              "    </tr>\n",
              "    <tr>\n",
              "      <th>1458</th>\n",
              "      <td>2015-12-29</td>\n",
              "      <td>0.0</td>\n",
              "      <td>7.2</td>\n",
              "      <td>0.6</td>\n",
              "      <td>2.6</td>\n",
              "      <td>fog</td>\n",
              "    </tr>\n",
              "    <tr>\n",
              "      <th>1459</th>\n",
              "      <td>2015-12-30</td>\n",
              "      <td>0.0</td>\n",
              "      <td>5.6</td>\n",
              "      <td>-1.0</td>\n",
              "      <td>3.4</td>\n",
              "      <td>sun</td>\n",
              "    </tr>\n",
              "    <tr>\n",
              "      <th>1460</th>\n",
              "      <td>2015-12-31</td>\n",
              "      <td>0.0</td>\n",
              "      <td>5.6</td>\n",
              "      <td>-2.1</td>\n",
              "      <td>3.5</td>\n",
              "      <td>sun</td>\n",
              "    </tr>\n",
              "  </tbody>\n",
              "</table>\n",
              "<p>1461 rows × 6 columns</p>\n",
              "</div>\n",
              "    <div class=\"colab-df-buttons\">\n",
              "\n",
              "  <div class=\"colab-df-container\">\n",
              "    <button class=\"colab-df-convert\" onclick=\"convertToInteractive('df-af8307b6-bfc9-4d09-a063-56227f5f28c2')\"\n",
              "            title=\"Convert this dataframe to an interactive table.\"\n",
              "            style=\"display:none;\">\n",
              "\n",
              "  <svg xmlns=\"http://www.w3.org/2000/svg\" height=\"24px\" viewBox=\"0 -960 960 960\">\n",
              "    <path d=\"M120-120v-720h720v720H120Zm60-500h600v-160H180v160Zm220 220h160v-160H400v160Zm0 220h160v-160H400v160ZM180-400h160v-160H180v160Zm440 0h160v-160H620v160ZM180-180h160v-160H180v160Zm440 0h160v-160H620v160Z\"/>\n",
              "  </svg>\n",
              "    </button>\n",
              "\n",
              "  <style>\n",
              "    .colab-df-container {\n",
              "      display:flex;\n",
              "      gap: 12px;\n",
              "    }\n",
              "\n",
              "    .colab-df-convert {\n",
              "      background-color: #E8F0FE;\n",
              "      border: none;\n",
              "      border-radius: 50%;\n",
              "      cursor: pointer;\n",
              "      display: none;\n",
              "      fill: #1967D2;\n",
              "      height: 32px;\n",
              "      padding: 0 0 0 0;\n",
              "      width: 32px;\n",
              "    }\n",
              "\n",
              "    .colab-df-convert:hover {\n",
              "      background-color: #E2EBFA;\n",
              "      box-shadow: 0px 1px 2px rgba(60, 64, 67, 0.3), 0px 1px 3px 1px rgba(60, 64, 67, 0.15);\n",
              "      fill: #174EA6;\n",
              "    }\n",
              "\n",
              "    .colab-df-buttons div {\n",
              "      margin-bottom: 4px;\n",
              "    }\n",
              "\n",
              "    [theme=dark] .colab-df-convert {\n",
              "      background-color: #3B4455;\n",
              "      fill: #D2E3FC;\n",
              "    }\n",
              "\n",
              "    [theme=dark] .colab-df-convert:hover {\n",
              "      background-color: #434B5C;\n",
              "      box-shadow: 0px 1px 3px 1px rgba(0, 0, 0, 0.15);\n",
              "      filter: drop-shadow(0px 1px 2px rgba(0, 0, 0, 0.3));\n",
              "      fill: #FFFFFF;\n",
              "    }\n",
              "  </style>\n",
              "\n",
              "    <script>\n",
              "      const buttonEl =\n",
              "        document.querySelector('#df-af8307b6-bfc9-4d09-a063-56227f5f28c2 button.colab-df-convert');\n",
              "      buttonEl.style.display =\n",
              "        google.colab.kernel.accessAllowed ? 'block' : 'none';\n",
              "\n",
              "      async function convertToInteractive(key) {\n",
              "        const element = document.querySelector('#df-af8307b6-bfc9-4d09-a063-56227f5f28c2');\n",
              "        const dataTable =\n",
              "          await google.colab.kernel.invokeFunction('convertToInteractive',\n",
              "                                                    [key], {});\n",
              "        if (!dataTable) return;\n",
              "\n",
              "        const docLinkHtml = 'Like what you see? Visit the ' +\n",
              "          '<a target=\"_blank\" href=https://colab.research.google.com/notebooks/data_table.ipynb>data table notebook</a>'\n",
              "          + ' to learn more about interactive tables.';\n",
              "        element.innerHTML = '';\n",
              "        dataTable['output_type'] = 'display_data';\n",
              "        await google.colab.output.renderOutput(dataTable, element);\n",
              "        const docLink = document.createElement('div');\n",
              "        docLink.innerHTML = docLinkHtml;\n",
              "        element.appendChild(docLink);\n",
              "      }\n",
              "    </script>\n",
              "  </div>\n",
              "\n",
              "\n",
              "<div id=\"df-87af0701-37e6-43ec-97c2-e116c9aca1f6\">\n",
              "  <button class=\"colab-df-quickchart\" onclick=\"quickchart('df-87af0701-37e6-43ec-97c2-e116c9aca1f6')\"\n",
              "            title=\"Suggest charts\"\n",
              "            style=\"display:none;\">\n",
              "\n",
              "<svg xmlns=\"http://www.w3.org/2000/svg\" height=\"24px\"viewBox=\"0 0 24 24\"\n",
              "     width=\"24px\">\n",
              "    <g>\n",
              "        <path d=\"M19 3H5c-1.1 0-2 .9-2 2v14c0 1.1.9 2 2 2h14c1.1 0 2-.9 2-2V5c0-1.1-.9-2-2-2zM9 17H7v-7h2v7zm4 0h-2V7h2v10zm4 0h-2v-4h2v4z\"/>\n",
              "    </g>\n",
              "</svg>\n",
              "  </button>\n",
              "\n",
              "<style>\n",
              "  .colab-df-quickchart {\n",
              "      --bg-color: #E8F0FE;\n",
              "      --fill-color: #1967D2;\n",
              "      --hover-bg-color: #E2EBFA;\n",
              "      --hover-fill-color: #174EA6;\n",
              "      --disabled-fill-color: #AAA;\n",
              "      --disabled-bg-color: #DDD;\n",
              "  }\n",
              "\n",
              "  [theme=dark] .colab-df-quickchart {\n",
              "      --bg-color: #3B4455;\n",
              "      --fill-color: #D2E3FC;\n",
              "      --hover-bg-color: #434B5C;\n",
              "      --hover-fill-color: #FFFFFF;\n",
              "      --disabled-bg-color: #3B4455;\n",
              "      --disabled-fill-color: #666;\n",
              "  }\n",
              "\n",
              "  .colab-df-quickchart {\n",
              "    background-color: var(--bg-color);\n",
              "    border: none;\n",
              "    border-radius: 50%;\n",
              "    cursor: pointer;\n",
              "    display: none;\n",
              "    fill: var(--fill-color);\n",
              "    height: 32px;\n",
              "    padding: 0;\n",
              "    width: 32px;\n",
              "  }\n",
              "\n",
              "  .colab-df-quickchart:hover {\n",
              "    background-color: var(--hover-bg-color);\n",
              "    box-shadow: 0 1px 2px rgba(60, 64, 67, 0.3), 0 1px 3px 1px rgba(60, 64, 67, 0.15);\n",
              "    fill: var(--button-hover-fill-color);\n",
              "  }\n",
              "\n",
              "  .colab-df-quickchart-complete:disabled,\n",
              "  .colab-df-quickchart-complete:disabled:hover {\n",
              "    background-color: var(--disabled-bg-color);\n",
              "    fill: var(--disabled-fill-color);\n",
              "    box-shadow: none;\n",
              "  }\n",
              "\n",
              "  .colab-df-spinner {\n",
              "    border: 2px solid var(--fill-color);\n",
              "    border-color: transparent;\n",
              "    border-bottom-color: var(--fill-color);\n",
              "    animation:\n",
              "      spin 1s steps(1) infinite;\n",
              "  }\n",
              "\n",
              "  @keyframes spin {\n",
              "    0% {\n",
              "      border-color: transparent;\n",
              "      border-bottom-color: var(--fill-color);\n",
              "      border-left-color: var(--fill-color);\n",
              "    }\n",
              "    20% {\n",
              "      border-color: transparent;\n",
              "      border-left-color: var(--fill-color);\n",
              "      border-top-color: var(--fill-color);\n",
              "    }\n",
              "    30% {\n",
              "      border-color: transparent;\n",
              "      border-left-color: var(--fill-color);\n",
              "      border-top-color: var(--fill-color);\n",
              "      border-right-color: var(--fill-color);\n",
              "    }\n",
              "    40% {\n",
              "      border-color: transparent;\n",
              "      border-right-color: var(--fill-color);\n",
              "      border-top-color: var(--fill-color);\n",
              "    }\n",
              "    60% {\n",
              "      border-color: transparent;\n",
              "      border-right-color: var(--fill-color);\n",
              "    }\n",
              "    80% {\n",
              "      border-color: transparent;\n",
              "      border-right-color: var(--fill-color);\n",
              "      border-bottom-color: var(--fill-color);\n",
              "    }\n",
              "    90% {\n",
              "      border-color: transparent;\n",
              "      border-bottom-color: var(--fill-color);\n",
              "    }\n",
              "  }\n",
              "</style>\n",
              "\n",
              "  <script>\n",
              "    async function quickchart(key) {\n",
              "      const quickchartButtonEl =\n",
              "        document.querySelector('#' + key + ' button');\n",
              "      quickchartButtonEl.disabled = true;  // To prevent multiple clicks.\n",
              "      quickchartButtonEl.classList.add('colab-df-spinner');\n",
              "      try {\n",
              "        const charts = await google.colab.kernel.invokeFunction(\n",
              "            'suggestCharts', [key], {});\n",
              "      } catch (error) {\n",
              "        console.error('Error during call to suggestCharts:', error);\n",
              "      }\n",
              "      quickchartButtonEl.classList.remove('colab-df-spinner');\n",
              "      quickchartButtonEl.classList.add('colab-df-quickchart-complete');\n",
              "    }\n",
              "    (() => {\n",
              "      let quickchartButtonEl =\n",
              "        document.querySelector('#df-87af0701-37e6-43ec-97c2-e116c9aca1f6 button');\n",
              "      quickchartButtonEl.style.display =\n",
              "        google.colab.kernel.accessAllowed ? 'block' : 'none';\n",
              "    })();\n",
              "  </script>\n",
              "</div>\n",
              "\n",
              "  <div id=\"id_67d2bf59-173e-4b89-904f-2322af83e404\">\n",
              "    <style>\n",
              "      .colab-df-generate {\n",
              "        background-color: #E8F0FE;\n",
              "        border: none;\n",
              "        border-radius: 50%;\n",
              "        cursor: pointer;\n",
              "        display: none;\n",
              "        fill: #1967D2;\n",
              "        height: 32px;\n",
              "        padding: 0 0 0 0;\n",
              "        width: 32px;\n",
              "      }\n",
              "\n",
              "      .colab-df-generate:hover {\n",
              "        background-color: #E2EBFA;\n",
              "        box-shadow: 0px 1px 2px rgba(60, 64, 67, 0.3), 0px 1px 3px 1px rgba(60, 64, 67, 0.15);\n",
              "        fill: #174EA6;\n",
              "      }\n",
              "\n",
              "      [theme=dark] .colab-df-generate {\n",
              "        background-color: #3B4455;\n",
              "        fill: #D2E3FC;\n",
              "      }\n",
              "\n",
              "      [theme=dark] .colab-df-generate:hover {\n",
              "        background-color: #434B5C;\n",
              "        box-shadow: 0px 1px 3px 1px rgba(0, 0, 0, 0.15);\n",
              "        filter: drop-shadow(0px 1px 2px rgba(0, 0, 0, 0.3));\n",
              "        fill: #FFFFFF;\n",
              "      }\n",
              "    </style>\n",
              "    <button class=\"colab-df-generate\" onclick=\"generateWithVariable('data')\"\n",
              "            title=\"Generate code using this dataframe.\"\n",
              "            style=\"display:none;\">\n",
              "\n",
              "  <svg xmlns=\"http://www.w3.org/2000/svg\" height=\"24px\"viewBox=\"0 0 24 24\"\n",
              "       width=\"24px\">\n",
              "    <path d=\"M7,19H8.4L18.45,9,17,7.55,7,17.6ZM5,21V16.75L18.45,3.32a2,2,0,0,1,2.83,0l1.4,1.43a1.91,1.91,0,0,1,.58,1.4,1.91,1.91,0,0,1-.58,1.4L9.25,21ZM18.45,9,17,7.55Zm-12,3A5.31,5.31,0,0,0,4.9,8.1,5.31,5.31,0,0,0,1,6.5,5.31,5.31,0,0,0,4.9,4.9,5.31,5.31,0,0,0,6.5,1,5.31,5.31,0,0,0,8.1,4.9,5.31,5.31,0,0,0,12,6.5,5.46,5.46,0,0,0,6.5,12Z\"/>\n",
              "  </svg>\n",
              "    </button>\n",
              "    <script>\n",
              "      (() => {\n",
              "      const buttonEl =\n",
              "        document.querySelector('#id_67d2bf59-173e-4b89-904f-2322af83e404 button.colab-df-generate');\n",
              "      buttonEl.style.display =\n",
              "        google.colab.kernel.accessAllowed ? 'block' : 'none';\n",
              "\n",
              "      buttonEl.onclick = () => {\n",
              "        google.colab.notebook.generateWithVariable('data');\n",
              "      }\n",
              "      })();\n",
              "    </script>\n",
              "  </div>\n",
              "\n",
              "    </div>\n",
              "  </div>\n"
            ],
            "application/vnd.google.colaboratory.intrinsic+json": {
              "type": "dataframe",
              "variable_name": "data",
              "summary": "{\n  \"name\": \"data\",\n  \"rows\": 1461,\n  \"fields\": [\n    {\n      \"column\": \"date\",\n      \"properties\": {\n        \"dtype\": \"object\",\n        \"num_unique_values\": 1461,\n        \"samples\": [\n          \"2014-06-11\",\n          \"2015-01-10\",\n          \"2013-02-17\"\n        ],\n        \"semantic_type\": \"\",\n        \"description\": \"\"\n      }\n    },\n    {\n      \"column\": \"precipitation\",\n      \"properties\": {\n        \"dtype\": \"number\",\n        \"std\": 6.680194322314731,\n        \"min\": 0.0,\n        \"max\": 55.9,\n        \"num_unique_values\": 111,\n        \"samples\": [\n          43.4,\n          8.1,\n          1.3\n        ],\n        \"semantic_type\": \"\",\n        \"description\": \"\"\n      }\n    },\n    {\n      \"column\": \"temp_max\",\n      \"properties\": {\n        \"dtype\": \"number\",\n        \"std\": 7.349758097360185,\n        \"min\": -1.6,\n        \"max\": 35.6,\n        \"num_unique_values\": 67,\n        \"samples\": [\n          25.6,\n          8.3,\n          8.9\n        ],\n        \"semantic_type\": \"\",\n        \"description\": \"\"\n      }\n    },\n    {\n      \"column\": \"temp_min\",\n      \"properties\": {\n        \"dtype\": \"number\",\n        \"std\": 5.023004179961267,\n        \"min\": -7.1,\n        \"max\": 18.3,\n        \"num_unique_values\": 55,\n        \"samples\": [\n          13.3,\n          0.6,\n          14.4\n        ],\n        \"semantic_type\": \"\",\n        \"description\": \"\"\n      }\n    },\n    {\n      \"column\": \"wind\",\n      \"properties\": {\n        \"dtype\": \"number\",\n        \"std\": 1.4378250588746244,\n        \"min\": 0.4,\n        \"max\": 9.5,\n        \"num_unique_values\": 79,\n        \"samples\": [\n          8.1,\n          4.7,\n          2.6\n        ],\n        \"semantic_type\": \"\",\n        \"description\": \"\"\n      }\n    },\n    {\n      \"column\": \"weather\",\n      \"properties\": {\n        \"dtype\": \"category\",\n        \"num_unique_values\": 5,\n        \"samples\": [\n          \"rain\",\n          \"fog\",\n          \"sun\"\n        ],\n        \"semantic_type\": \"\",\n        \"description\": \"\"\n      }\n    }\n  ]\n}"
            }
          },
          "metadata": {},
          "execution_count": 12
        }
      ]
    },
    {
      "cell_type": "code",
      "source": [
        "data.duplicated().sum()"
      ],
      "metadata": {
        "colab": {
          "base_uri": "https://localhost:8080/"
        },
        "id": "9ESGHmTwVgL1",
        "outputId": "adf9b60e-8131-4b4f-91c0-8b499412d91a"
      },
      "execution_count": null,
      "outputs": [
        {
          "output_type": "execute_result",
          "data": {
            "text/plain": [
              "0"
            ]
          },
          "metadata": {},
          "execution_count": 13
        }
      ]
    },
    {
      "cell_type": "code",
      "source": [
        "data['date'] = pd.to_datetime(data['date'])"
      ],
      "metadata": {
        "id": "AriWCvu8Virt"
      },
      "execution_count": null,
      "outputs": []
    },
    {
      "cell_type": "code",
      "source": [
        "training = data.iloc[:,2:3].values"
      ],
      "metadata": {
        "id": "teZ3YT72Vkyn"
      },
      "execution_count": null,
      "outputs": []
    },
    {
      "cell_type": "code",
      "source": [
        "len(training)"
      ],
      "metadata": {
        "colab": {
          "base_uri": "https://localhost:8080/"
        },
        "id": "jg0bO3BgVsoa",
        "outputId": "c15d01ee-15ba-45d1-d3cc-ed8dd9285b3c"
      },
      "execution_count": null,
      "outputs": [
        {
          "output_type": "execute_result",
          "data": {
            "text/plain": [
              "1461"
            ]
          },
          "metadata": {},
          "execution_count": 16
        }
      ]
    },
    {
      "cell_type": "code",
      "source": [
        "def df_to_XY(df,window_size=10):\n",
        " X_train=[]\n",
        " y_train=[]\n",
        "\n",
        " for i in range(10,len(training)):\n",
        "    X_train.append(training[i-10:i,0])\n",
        "    y_train.append(training[i,0])\n",
        "\n",
        " X_train, y_train = np.array(X_train), np.array(y_train)\n",
        " return X_train, y_train"
      ],
      "metadata": {
        "id": "xEmTME5-Vu1M"
      },
      "execution_count": null,
      "outputs": []
    },
    {
      "cell_type": "code",
      "source": [
        "WINDOW = 10\n",
        "X,y = df_to_XY(data,WINDOW)\n",
        "print(len(X),len(y))\n",
        "X_train = X[:800]\n",
        "y_train = y[:800]\n",
        "X_val = X[800:1000]\n",
        "y_val = y[800:1000]\n",
        "X_test = X[1000:]\n",
        "y_test = y[1000:]"
      ],
      "metadata": {
        "colab": {
          "base_uri": "https://localhost:8080/"
        },
        "id": "xuAzlq89Vwki",
        "outputId": "5f6d8d6c-26a7-4d06-cca7-ddb5eb65691c"
      },
      "execution_count": null,
      "outputs": [
        {
          "output_type": "stream",
          "name": "stdout",
          "text": [
            "1451 1451\n"
          ]
        }
      ]
    },
    {
      "cell_type": "code",
      "source": [
        "X_train = np.reshape(X_train,(X_train.shape[0],X_train.shape[1],1))\n",
        "X_val = np.reshape(X_val,(X_val.shape[0],X_val.shape[1],1))\n",
        "X_test = np.reshape(X_test,(X_test.shape[0],X_test.shape[1],1))"
      ],
      "metadata": {
        "id": "LG9T7kDZVyf_"
      },
      "execution_count": null,
      "outputs": []
    },
    {
      "cell_type": "code",
      "source": [
        "from keras.models import Sequential\n",
        "from keras.layers import Dense, LSTM, Dropout\n",
        "model = Sequential()\n",
        "#Addinf the first LSTM layer and some Dropout regularisation\n",
        "model.add(LSTM(units=50, return_sequences = True, input_shape=(X_train.shape[1], 1)))\n",
        "model.add(Dropout(0.2))\n",
        "\n",
        "model.add(LSTM(units=50, return_sequences = True))\n",
        "model.add(Dropout(0.2))\n",
        "\n",
        "model.add(LSTM(units=50, return_sequences = True))\n",
        "model.add(Dropout(0.2))\n",
        "\n",
        "model.add(LSTM(units=50))\n",
        "model.add(Dropout(0.2))\n",
        "#output layer\n",
        "model.add(Dense(units=1))"
      ],
      "metadata": {
        "colab": {
          "base_uri": "https://localhost:8080/"
        },
        "id": "3YAbxCptV0gX",
        "outputId": "6ed0c3ac-252f-4b8c-de56-8706ba0235c4"
      },
      "execution_count": null,
      "outputs": [
        {
          "output_type": "stream",
          "name": "stderr",
          "text": [
            "/usr/local/lib/python3.10/dist-packages/keras/src/layers/rnn/rnn.py:204: UserWarning: Do not pass an `input_shape`/`input_dim` argument to a layer. When using Sequential models, prefer using an `Input(shape)` object as the first layer in the model instead.\n",
            "  super().__init__(**kwargs)\n"
          ]
        }
      ]
    },
    {
      "cell_type": "code",
      "source": [
        "model.compile(optimizer='adam',loss='mean_squared_error')"
      ],
      "metadata": {
        "id": "phfI53poV2ax"
      },
      "execution_count": null,
      "outputs": []
    },
    {
      "cell_type": "code",
      "source": [
        "from tensorflow.keras.callbacks import ModelCheckpoint,EarlyStopping\n",
        "from tensorflow.keras.losses import MeanSquaredError\n",
        "from tensorflow.keras.metrics import RootMeanSquaredError\n",
        "from tensorflow.keras.optimizers import Adam"
      ],
      "metadata": {
        "id": "rbfNyFgcV5pc"
      },
      "execution_count": null,
      "outputs": []
    },
    {
      "cell_type": "code",
      "source": [
        "history=model.fit(X_train,y_train,validation_data=(X_val,y_val),epochs=100, batch_size=32)"
      ],
      "metadata": {
        "colab": {
          "base_uri": "https://localhost:8080/"
        },
        "id": "jKxXgE5bV7dm",
        "outputId": "7df74c71-edac-42ec-f137-9d864db8f8c3"
      },
      "execution_count": null,
      "outputs": [
        {
          "output_type": "stream",
          "name": "stdout",
          "text": [
            "Epoch 1/100\n",
            "\u001b[1m25/25\u001b[0m \u001b[32m━━━━━━━━━━━━━━━━━━━━\u001b[0m\u001b[37m\u001b[0m \u001b[1m6s\u001b[0m 43ms/step - loss: 243.2188 - val_loss: 255.8708\n",
            "Epoch 2/100\n",
            "\u001b[1m25/25\u001b[0m \u001b[32m━━━━━━━━━━━━━━━━━━━━\u001b[0m\u001b[37m\u001b[0m \u001b[1m0s\u001b[0m 18ms/step - loss: 102.9317 - val_loss: 162.9146\n",
            "Epoch 3/100\n",
            "\u001b[1m25/25\u001b[0m \u001b[32m━━━━━━━━━━━━━━━━━━━━\u001b[0m\u001b[37m\u001b[0m \u001b[1m0s\u001b[0m 17ms/step - loss: 75.1159 - val_loss: 130.5502\n",
            "Epoch 4/100\n",
            "\u001b[1m25/25\u001b[0m \u001b[32m━━━━━━━━━━━━━━━━━━━━\u001b[0m\u001b[37m\u001b[0m \u001b[1m1s\u001b[0m 19ms/step - loss: 64.7616 - val_loss: 112.9212\n",
            "Epoch 5/100\n",
            "\u001b[1m25/25\u001b[0m \u001b[32m━━━━━━━━━━━━━━━━━━━━\u001b[0m\u001b[37m\u001b[0m \u001b[1m1s\u001b[0m 18ms/step - loss: 61.5137 - val_loss: 100.3270\n",
            "Epoch 6/100\n",
            "\u001b[1m25/25\u001b[0m \u001b[32m━━━━━━━━━━━━━━━━━━━━\u001b[0m\u001b[37m\u001b[0m \u001b[1m1s\u001b[0m 26ms/step - loss: 55.0234 - val_loss: 91.9696\n",
            "Epoch 7/100\n",
            "\u001b[1m25/25\u001b[0m \u001b[32m━━━━━━━━━━━━━━━━━━━━\u001b[0m\u001b[37m\u001b[0m \u001b[1m1s\u001b[0m 31ms/step - loss: 55.0429 - val_loss: 86.3920\n",
            "Epoch 8/100\n",
            "\u001b[1m25/25\u001b[0m \u001b[32m━━━━━━━━━━━━━━━━━━━━\u001b[0m\u001b[37m\u001b[0m \u001b[1m1s\u001b[0m 30ms/step - loss: 58.5503 - val_loss: 82.2378\n",
            "Epoch 9/100\n",
            "\u001b[1m25/25\u001b[0m \u001b[32m━━━━━━━━━━━━━━━━━━━━\u001b[0m\u001b[37m\u001b[0m \u001b[1m1s\u001b[0m 26ms/step - loss: 51.0411 - val_loss: 79.8917\n",
            "Epoch 10/100\n",
            "\u001b[1m25/25\u001b[0m \u001b[32m━━━━━━━━━━━━━━━━━━━━\u001b[0m\u001b[37m\u001b[0m \u001b[1m1s\u001b[0m 18ms/step - loss: 53.0556 - val_loss: 78.7372\n",
            "Epoch 11/100\n",
            "\u001b[1m25/25\u001b[0m \u001b[32m━━━━━━━━━━━━━━━━━━━━\u001b[0m\u001b[37m\u001b[0m \u001b[1m0s\u001b[0m 18ms/step - loss: 54.1639 - val_loss: 76.9224\n",
            "Epoch 12/100\n",
            "\u001b[1m25/25\u001b[0m \u001b[32m━━━━━━━━━━━━━━━━━━━━\u001b[0m\u001b[37m\u001b[0m \u001b[1m1s\u001b[0m 18ms/step - loss: 51.2570 - val_loss: 77.1584\n",
            "Epoch 13/100\n",
            "\u001b[1m25/25\u001b[0m \u001b[32m━━━━━━━━━━━━━━━━━━━━\u001b[0m\u001b[37m\u001b[0m \u001b[1m0s\u001b[0m 18ms/step - loss: 56.3546 - val_loss: 76.8488\n",
            "Epoch 14/100\n",
            "\u001b[1m25/25\u001b[0m \u001b[32m━━━━━━━━━━━━━━━━━━━━\u001b[0m\u001b[37m\u001b[0m \u001b[1m1s\u001b[0m 18ms/step - loss: 55.5646 - val_loss: 76.1925\n",
            "Epoch 15/100\n",
            "\u001b[1m25/25\u001b[0m \u001b[32m━━━━━━━━━━━━━━━━━━━━\u001b[0m\u001b[37m\u001b[0m \u001b[1m1s\u001b[0m 18ms/step - loss: 55.0937 - val_loss: 76.1697\n",
            "Epoch 16/100\n",
            "\u001b[1m25/25\u001b[0m \u001b[32m━━━━━━━━━━━━━━━━━━━━\u001b[0m\u001b[37m\u001b[0m \u001b[1m0s\u001b[0m 18ms/step - loss: 51.7492 - val_loss: 74.7335\n",
            "Epoch 17/100\n",
            "\u001b[1m25/25\u001b[0m \u001b[32m━━━━━━━━━━━━━━━━━━━━\u001b[0m\u001b[37m\u001b[0m \u001b[1m1s\u001b[0m 18ms/step - loss: 53.5222 - val_loss: 74.9508\n",
            "Epoch 18/100\n",
            "\u001b[1m25/25\u001b[0m \u001b[32m━━━━━━━━━━━━━━━━━━━━\u001b[0m\u001b[37m\u001b[0m \u001b[1m0s\u001b[0m 18ms/step - loss: 57.2687 - val_loss: 75.7531\n",
            "Epoch 19/100\n",
            "\u001b[1m25/25\u001b[0m \u001b[32m━━━━━━━━━━━━━━━━━━━━\u001b[0m\u001b[37m\u001b[0m \u001b[1m1s\u001b[0m 19ms/step - loss: 49.8631 - val_loss: 76.2783\n",
            "Epoch 20/100\n",
            "\u001b[1m25/25\u001b[0m \u001b[32m━━━━━━━━━━━━━━━━━━━━\u001b[0m\u001b[37m\u001b[0m \u001b[1m1s\u001b[0m 19ms/step - loss: 53.6761 - val_loss: 75.2376\n",
            "Epoch 21/100\n",
            "\u001b[1m25/25\u001b[0m \u001b[32m━━━━━━━━━━━━━━━━━━━━\u001b[0m\u001b[37m\u001b[0m \u001b[1m1s\u001b[0m 18ms/step - loss: 54.6170 - val_loss: 76.3395\n",
            "Epoch 22/100\n",
            "\u001b[1m25/25\u001b[0m \u001b[32m━━━━━━━━━━━━━━━━━━━━\u001b[0m\u001b[37m\u001b[0m \u001b[1m1s\u001b[0m 19ms/step - loss: 54.9639 - val_loss: 75.8645\n",
            "Epoch 23/100\n",
            "\u001b[1m25/25\u001b[0m \u001b[32m━━━━━━━━━━━━━━━━━━━━\u001b[0m\u001b[37m\u001b[0m \u001b[1m1s\u001b[0m 18ms/step - loss: 52.9427 - val_loss: 76.8319\n",
            "Epoch 24/100\n",
            "\u001b[1m25/25\u001b[0m \u001b[32m━━━━━━━━━━━━━━━━━━━━\u001b[0m\u001b[37m\u001b[0m \u001b[1m1s\u001b[0m 18ms/step - loss: 52.1544 - val_loss: 75.0359\n",
            "Epoch 25/100\n",
            "\u001b[1m25/25\u001b[0m \u001b[32m━━━━━━━━━━━━━━━━━━━━\u001b[0m\u001b[37m\u001b[0m \u001b[1m1s\u001b[0m 21ms/step - loss: 53.4586 - val_loss: 75.1042\n",
            "Epoch 26/100\n",
            "\u001b[1m25/25\u001b[0m \u001b[32m━━━━━━━━━━━━━━━━━━━━\u001b[0m\u001b[37m\u001b[0m \u001b[1m1s\u001b[0m 30ms/step - loss: 52.6989 - val_loss: 75.4182\n",
            "Epoch 27/100\n",
            "\u001b[1m25/25\u001b[0m \u001b[32m━━━━━━━━━━━━━━━━━━━━\u001b[0m\u001b[37m\u001b[0m \u001b[1m1s\u001b[0m 31ms/step - loss: 48.7710 - val_loss: 68.1907\n",
            "Epoch 28/100\n",
            "\u001b[1m25/25\u001b[0m \u001b[32m━━━━━━━━━━━━━━━━━━━━\u001b[0m\u001b[37m\u001b[0m \u001b[1m1s\u001b[0m 18ms/step - loss: 35.4748 - val_loss: 58.9040\n",
            "Epoch 29/100\n",
            "\u001b[1m25/25\u001b[0m \u001b[32m━━━━━━━━━━━━━━━━━━━━\u001b[0m\u001b[37m\u001b[0m \u001b[1m1s\u001b[0m 19ms/step - loss: 27.7703 - val_loss: 44.0715\n",
            "Epoch 30/100\n",
            "\u001b[1m25/25\u001b[0m \u001b[32m━━━━━━━━━━━━━━━━━━━━\u001b[0m\u001b[37m\u001b[0m \u001b[1m0s\u001b[0m 18ms/step - loss: 24.1814 - val_loss: 37.1120\n",
            "Epoch 31/100\n",
            "\u001b[1m25/25\u001b[0m \u001b[32m━━━━━━━━━━━━━━━━━━━━\u001b[0m\u001b[37m\u001b[0m \u001b[1m1s\u001b[0m 19ms/step - loss: 21.5312 - val_loss: 31.2007\n",
            "Epoch 32/100\n",
            "\u001b[1m25/25\u001b[0m \u001b[32m━━━━━━━━━━━━━━━━━━━━\u001b[0m\u001b[37m\u001b[0m \u001b[1m0s\u001b[0m 18ms/step - loss: 19.3871 - val_loss: 30.3182\n",
            "Epoch 33/100\n",
            "\u001b[1m25/25\u001b[0m \u001b[32m━━━━━━━━━━━━━━━━━━━━\u001b[0m\u001b[37m\u001b[0m \u001b[1m1s\u001b[0m 19ms/step - loss: 20.0199 - val_loss: 24.4591\n",
            "Epoch 34/100\n",
            "\u001b[1m25/25\u001b[0m \u001b[32m━━━━━━━━━━━━━━━━━━━━\u001b[0m\u001b[37m\u001b[0m \u001b[1m0s\u001b[0m 18ms/step - loss: 14.8474 - val_loss: 22.9135\n",
            "Epoch 35/100\n",
            "\u001b[1m25/25\u001b[0m \u001b[32m━━━━━━━━━━━━━━━━━━━━\u001b[0m\u001b[37m\u001b[0m \u001b[1m1s\u001b[0m 19ms/step - loss: 14.5366 - val_loss: 19.9823\n",
            "Epoch 36/100\n",
            "\u001b[1m25/25\u001b[0m \u001b[32m━━━━━━━━━━━━━━━━━━━━\u001b[0m\u001b[37m\u001b[0m \u001b[1m0s\u001b[0m 18ms/step - loss: 12.6115 - val_loss: 18.9249\n",
            "Epoch 37/100\n",
            "\u001b[1m25/25\u001b[0m \u001b[32m━━━━━━━━━━━━━━━━━━━━\u001b[0m\u001b[37m\u001b[0m \u001b[1m1s\u001b[0m 19ms/step - loss: 12.1622 - val_loss: 17.6848\n",
            "Epoch 38/100\n",
            "\u001b[1m25/25\u001b[0m \u001b[32m━━━━━━━━━━━━━━━━━━━━\u001b[0m\u001b[37m\u001b[0m \u001b[1m0s\u001b[0m 18ms/step - loss: 12.0486 - val_loss: 16.4352\n",
            "Epoch 39/100\n",
            "\u001b[1m25/25\u001b[0m \u001b[32m━━━━━━━━━━━━━━━━━━━━\u001b[0m\u001b[37m\u001b[0m \u001b[1m1s\u001b[0m 19ms/step - loss: 10.8671 - val_loss: 17.3342\n",
            "Epoch 40/100\n",
            "\u001b[1m25/25\u001b[0m \u001b[32m━━━━━━━━━━━━━━━━━━━━\u001b[0m\u001b[37m\u001b[0m \u001b[1m0s\u001b[0m 18ms/step - loss: 11.7908 - val_loss: 15.3178\n",
            "Epoch 41/100\n",
            "\u001b[1m25/25\u001b[0m \u001b[32m━━━━━━━━━━━━━━━━━━━━\u001b[0m\u001b[37m\u001b[0m \u001b[1m0s\u001b[0m 18ms/step - loss: 11.7774 - val_loss: 14.3748\n",
            "Epoch 42/100\n",
            "\u001b[1m25/25\u001b[0m \u001b[32m━━━━━━━━━━━━━━━━━━━━\u001b[0m\u001b[37m\u001b[0m \u001b[1m1s\u001b[0m 19ms/step - loss: 10.2573 - val_loss: 14.1988\n",
            "Epoch 43/100\n",
            "\u001b[1m25/25\u001b[0m \u001b[32m━━━━━━━━━━━━━━━━━━━━\u001b[0m\u001b[37m\u001b[0m \u001b[1m1s\u001b[0m 17ms/step - loss: 9.9416 - val_loss: 13.8652\n",
            "Epoch 44/100\n",
            "\u001b[1m25/25\u001b[0m \u001b[32m━━━━━━━━━━━━━━━━━━━━\u001b[0m\u001b[37m\u001b[0m \u001b[1m1s\u001b[0m 21ms/step - loss: 11.3603 - val_loss: 14.0856\n",
            "Epoch 45/100\n",
            "\u001b[1m25/25\u001b[0m \u001b[32m━━━━━━━━━━━━━━━━━━━━\u001b[0m\u001b[37m\u001b[0m \u001b[1m0s\u001b[0m 19ms/step - loss: 9.8396 - val_loss: 13.1886\n",
            "Epoch 46/100\n",
            "\u001b[1m25/25\u001b[0m \u001b[32m━━━━━━━━━━━━━━━━━━━━\u001b[0m\u001b[37m\u001b[0m \u001b[1m1s\u001b[0m 31ms/step - loss: 11.1786 - val_loss: 13.0604\n",
            "Epoch 47/100\n",
            "\u001b[1m25/25\u001b[0m \u001b[32m━━━━━━━━━━━━━━━━━━━━\u001b[0m\u001b[37m\u001b[0m \u001b[1m1s\u001b[0m 29ms/step - loss: 10.3410 - val_loss: 12.5510\n",
            "Epoch 48/100\n",
            "\u001b[1m25/25\u001b[0m \u001b[32m━━━━━━━━━━━━━━━━━━━━\u001b[0m\u001b[37m\u001b[0m \u001b[1m1s\u001b[0m 32ms/step - loss: 9.2105 - val_loss: 12.9952\n",
            "Epoch 49/100\n",
            "\u001b[1m25/25\u001b[0m \u001b[32m━━━━━━━━━━━━━━━━━━━━\u001b[0m\u001b[37m\u001b[0m \u001b[1m1s\u001b[0m 19ms/step - loss: 11.2764 - val_loss: 12.3146\n",
            "Epoch 50/100\n",
            "\u001b[1m25/25\u001b[0m \u001b[32m━━━━━━━━━━━━━━━━━━━━\u001b[0m\u001b[37m\u001b[0m \u001b[1m0s\u001b[0m 18ms/step - loss: 10.0605 - val_loss: 12.3266\n",
            "Epoch 51/100\n",
            "\u001b[1m25/25\u001b[0m \u001b[32m━━━━━━━━━━━━━━━━━━━━\u001b[0m\u001b[37m\u001b[0m \u001b[1m1s\u001b[0m 18ms/step - loss: 10.4647 - val_loss: 11.9656\n",
            "Epoch 52/100\n",
            "\u001b[1m25/25\u001b[0m \u001b[32m━━━━━━━━━━━━━━━━━━━━\u001b[0m\u001b[37m\u001b[0m \u001b[1m1s\u001b[0m 19ms/step - loss: 10.2342 - val_loss: 11.6339\n",
            "Epoch 53/100\n",
            "\u001b[1m25/25\u001b[0m \u001b[32m━━━━━━━━━━━━━━━━━━━━\u001b[0m\u001b[37m\u001b[0m \u001b[1m1s\u001b[0m 18ms/step - loss: 8.4178 - val_loss: 11.8783\n",
            "Epoch 54/100\n",
            "\u001b[1m25/25\u001b[0m \u001b[32m━━━━━━━━━━━━━━━━━━━━\u001b[0m\u001b[37m\u001b[0m \u001b[1m1s\u001b[0m 26ms/step - loss: 10.0213 - val_loss: 11.2156\n",
            "Epoch 55/100\n",
            "\u001b[1m25/25\u001b[0m \u001b[32m━━━━━━━━━━━━━━━━━━━━\u001b[0m\u001b[37m\u001b[0m \u001b[1m1s\u001b[0m 29ms/step - loss: 9.2199 - val_loss: 11.2861\n",
            "Epoch 56/100\n",
            "\u001b[1m25/25\u001b[0m \u001b[32m━━━━━━━━━━━━━━━━━━━━\u001b[0m\u001b[37m\u001b[0m \u001b[1m1s\u001b[0m 18ms/step - loss: 9.2695 - val_loss: 11.0615\n",
            "Epoch 57/100\n",
            "\u001b[1m25/25\u001b[0m \u001b[32m━━━━━━━━━━━━━━━━━━━━\u001b[0m\u001b[37m\u001b[0m \u001b[1m1s\u001b[0m 19ms/step - loss: 9.7964 - val_loss: 11.4159\n",
            "Epoch 58/100\n",
            "\u001b[1m25/25\u001b[0m \u001b[32m━━━━━━━━━━━━━━━━━━━━\u001b[0m\u001b[37m\u001b[0m \u001b[1m1s\u001b[0m 18ms/step - loss: 10.8835 - val_loss: 11.6403\n",
            "Epoch 59/100\n",
            "\u001b[1m25/25\u001b[0m \u001b[32m━━━━━━━━━━━━━━━━━━━━\u001b[0m\u001b[37m\u001b[0m \u001b[1m0s\u001b[0m 19ms/step - loss: 11.0143 - val_loss: 10.8805\n",
            "Epoch 60/100\n",
            "\u001b[1m25/25\u001b[0m \u001b[32m━━━━━━━━━━━━━━━━━━━━\u001b[0m\u001b[37m\u001b[0m \u001b[1m0s\u001b[0m 19ms/step - loss: 8.7809 - val_loss: 11.0052\n",
            "Epoch 61/100\n",
            "\u001b[1m25/25\u001b[0m \u001b[32m━━━━━━━━━━━━━━━━━━━━\u001b[0m\u001b[37m\u001b[0m \u001b[1m1s\u001b[0m 19ms/step - loss: 9.5576 - val_loss: 10.5338\n",
            "Epoch 62/100\n",
            "\u001b[1m25/25\u001b[0m \u001b[32m━━━━━━━━━━━━━━━━━━━━\u001b[0m\u001b[37m\u001b[0m \u001b[1m0s\u001b[0m 18ms/step - loss: 9.7646 - val_loss: 10.8004\n",
            "Epoch 63/100\n",
            "\u001b[1m25/25\u001b[0m \u001b[32m━━━━━━━━━━━━━━━━━━━━\u001b[0m\u001b[37m\u001b[0m \u001b[1m1s\u001b[0m 18ms/step - loss: 9.2492 - val_loss: 10.7079\n",
            "Epoch 64/100\n",
            "\u001b[1m25/25\u001b[0m \u001b[32m━━━━━━━━━━━━━━━━━━━━\u001b[0m\u001b[37m\u001b[0m \u001b[1m1s\u001b[0m 29ms/step - loss: 8.2763 - val_loss: 10.5796\n",
            "Epoch 65/100\n",
            "\u001b[1m25/25\u001b[0m \u001b[32m━━━━━━━━━━━━━━━━━━━━\u001b[0m\u001b[37m\u001b[0m \u001b[1m1s\u001b[0m 31ms/step - loss: 9.9513 - val_loss: 10.6036\n",
            "Epoch 66/100\n",
            "\u001b[1m25/25\u001b[0m \u001b[32m━━━━━━━━━━━━━━━━━━━━\u001b[0m\u001b[37m\u001b[0m \u001b[1m1s\u001b[0m 32ms/step - loss: 9.1885 - val_loss: 10.8009\n",
            "Epoch 67/100\n",
            "\u001b[1m25/25\u001b[0m \u001b[32m━━━━━━━━━━━━━━━━━━━━\u001b[0m\u001b[37m\u001b[0m \u001b[1m1s\u001b[0m 31ms/step - loss: 8.8856 - val_loss: 10.2827\n",
            "Epoch 68/100\n",
            "\u001b[1m25/25\u001b[0m \u001b[32m━━━━━━━━━━━━━━━━━━━━\u001b[0m\u001b[37m\u001b[0m \u001b[1m1s\u001b[0m 18ms/step - loss: 8.1497 - val_loss: 10.2081\n",
            "Epoch 69/100\n",
            "\u001b[1m25/25\u001b[0m \u001b[32m━━━━━━━━━━━━━━━━━━━━\u001b[0m\u001b[37m\u001b[0m \u001b[1m1s\u001b[0m 18ms/step - loss: 9.1807 - val_loss: 10.1491\n",
            "Epoch 70/100\n",
            "\u001b[1m25/25\u001b[0m \u001b[32m━━━━━━━━━━━━━━━━━━━━\u001b[0m\u001b[37m\u001b[0m \u001b[1m0s\u001b[0m 19ms/step - loss: 8.5259 - val_loss: 10.1880\n",
            "Epoch 71/100\n",
            "\u001b[1m25/25\u001b[0m \u001b[32m━━━━━━━━━━━━━━━━━━━━\u001b[0m\u001b[37m\u001b[0m \u001b[1m1s\u001b[0m 19ms/step - loss: 8.6181 - val_loss: 10.3518\n",
            "Epoch 72/100\n",
            "\u001b[1m25/25\u001b[0m \u001b[32m━━━━━━━━━━━━━━━━━━━━\u001b[0m\u001b[37m\u001b[0m \u001b[1m0s\u001b[0m 18ms/step - loss: 8.4560 - val_loss: 10.0312\n",
            "Epoch 73/100\n",
            "\u001b[1m25/25\u001b[0m \u001b[32m━━━━━━━━━━━━━━━━━━━━\u001b[0m\u001b[37m\u001b[0m \u001b[1m0s\u001b[0m 19ms/step - loss: 8.1620 - val_loss: 10.1115\n",
            "Epoch 74/100\n",
            "\u001b[1m25/25\u001b[0m \u001b[32m━━━━━━━━━━━━━━━━━━━━\u001b[0m\u001b[37m\u001b[0m \u001b[1m1s\u001b[0m 18ms/step - loss: 8.3830 - val_loss: 10.5362\n",
            "Epoch 75/100\n",
            "\u001b[1m25/25\u001b[0m \u001b[32m━━━━━━━━━━━━━━━━━━━━\u001b[0m\u001b[37m\u001b[0m \u001b[1m1s\u001b[0m 19ms/step - loss: 8.8644 - val_loss: 10.0264\n",
            "Epoch 76/100\n",
            "\u001b[1m25/25\u001b[0m \u001b[32m━━━━━━━━━━━━━━━━━━━━\u001b[0m\u001b[37m\u001b[0m \u001b[1m0s\u001b[0m 18ms/step - loss: 9.4102 - val_loss: 9.7847\n",
            "Epoch 77/100\n",
            "\u001b[1m25/25\u001b[0m \u001b[32m━━━━━━━━━━━━━━━━━━━━\u001b[0m\u001b[37m\u001b[0m \u001b[1m1s\u001b[0m 19ms/step - loss: 8.3090 - val_loss: 10.4887\n",
            "Epoch 78/100\n",
            "\u001b[1m25/25\u001b[0m \u001b[32m━━━━━━━━━━━━━━━━━━━━\u001b[0m\u001b[37m\u001b[0m \u001b[1m1s\u001b[0m 19ms/step - loss: 8.4276 - val_loss: 9.7023\n",
            "Epoch 79/100\n",
            "\u001b[1m25/25\u001b[0m \u001b[32m━━━━━━━━━━━━━━━━━━━━\u001b[0m\u001b[37m\u001b[0m \u001b[1m1s\u001b[0m 18ms/step - loss: 8.4028 - val_loss: 9.9792\n",
            "Epoch 80/100\n",
            "\u001b[1m25/25\u001b[0m \u001b[32m━━━━━━━━━━━━━━━━━━━━\u001b[0m\u001b[37m\u001b[0m \u001b[1m1s\u001b[0m 20ms/step - loss: 8.5189 - val_loss: 9.7741\n",
            "Epoch 81/100\n",
            "\u001b[1m25/25\u001b[0m \u001b[32m━━━━━━━━━━━━━━━━━━━━\u001b[0m\u001b[37m\u001b[0m \u001b[1m1s\u001b[0m 18ms/step - loss: 8.0882 - val_loss: 9.5526\n",
            "Epoch 82/100\n",
            "\u001b[1m25/25\u001b[0m \u001b[32m━━━━━━━━━━━━━━━━━━━━\u001b[0m\u001b[37m\u001b[0m \u001b[1m1s\u001b[0m 19ms/step - loss: 7.7062 - val_loss: 9.7199\n",
            "Epoch 83/100\n",
            "\u001b[1m25/25\u001b[0m \u001b[32m━━━━━━━━━━━━━━━━━━━━\u001b[0m\u001b[37m\u001b[0m \u001b[1m0s\u001b[0m 18ms/step - loss: 8.0357 - val_loss: 9.6260\n",
            "Epoch 84/100\n",
            "\u001b[1m25/25\u001b[0m \u001b[32m━━━━━━━━━━━━━━━━━━━━\u001b[0m\u001b[37m\u001b[0m \u001b[1m1s\u001b[0m 22ms/step - loss: 7.1189 - val_loss: 10.0017\n",
            "Epoch 85/100\n",
            "\u001b[1m25/25\u001b[0m \u001b[32m━━━━━━━━━━━━━━━━━━━━\u001b[0m\u001b[37m\u001b[0m \u001b[1m1s\u001b[0m 30ms/step - loss: 8.5387 - val_loss: 9.6444\n",
            "Epoch 86/100\n",
            "\u001b[1m25/25\u001b[0m \u001b[32m━━━━━━━━━━━━━━━━━━━━\u001b[0m\u001b[37m\u001b[0m \u001b[1m1s\u001b[0m 30ms/step - loss: 8.7880 - val_loss: 9.7416\n",
            "Epoch 87/100\n",
            "\u001b[1m25/25\u001b[0m \u001b[32m━━━━━━━━━━━━━━━━━━━━\u001b[0m\u001b[37m\u001b[0m \u001b[1m1s\u001b[0m 30ms/step - loss: 9.1216 - val_loss: 9.5761\n",
            "Epoch 88/100\n",
            "\u001b[1m25/25\u001b[0m \u001b[32m━━━━━━━━━━━━━━━━━━━━\u001b[0m\u001b[37m\u001b[0m \u001b[1m1s\u001b[0m 30ms/step - loss: 8.0823 - val_loss: 9.7632\n",
            "Epoch 89/100\n",
            "\u001b[1m25/25\u001b[0m \u001b[32m━━━━━━━━━━━━━━━━━━━━\u001b[0m\u001b[37m\u001b[0m \u001b[1m1s\u001b[0m 19ms/step - loss: 8.5146 - val_loss: 10.1013\n",
            "Epoch 90/100\n",
            "\u001b[1m25/25\u001b[0m \u001b[32m━━━━━━━━━━━━━━━━━━━━\u001b[0m\u001b[37m\u001b[0m \u001b[1m1s\u001b[0m 19ms/step - loss: 7.3958 - val_loss: 10.3313\n",
            "Epoch 91/100\n",
            "\u001b[1m25/25\u001b[0m \u001b[32m━━━━━━━━━━━━━━━━━━━━\u001b[0m\u001b[37m\u001b[0m \u001b[1m0s\u001b[0m 18ms/step - loss: 8.4340 - val_loss: 11.0648\n",
            "Epoch 92/100\n",
            "\u001b[1m25/25\u001b[0m \u001b[32m━━━━━━━━━━━━━━━━━━━━\u001b[0m\u001b[37m\u001b[0m \u001b[1m0s\u001b[0m 19ms/step - loss: 7.2697 - val_loss: 9.7254\n",
            "Epoch 93/100\n",
            "\u001b[1m25/25\u001b[0m \u001b[32m━━━━━━━━━━━━━━━━━━━━\u001b[0m\u001b[37m\u001b[0m \u001b[1m1s\u001b[0m 18ms/step - loss: 8.8880 - val_loss: 9.8672\n",
            "Epoch 94/100\n",
            "\u001b[1m25/25\u001b[0m \u001b[32m━━━━━━━━━━━━━━━━━━━━\u001b[0m\u001b[37m\u001b[0m \u001b[1m0s\u001b[0m 19ms/step - loss: 8.0129 - val_loss: 9.6498\n",
            "Epoch 95/100\n",
            "\u001b[1m25/25\u001b[0m \u001b[32m━━━━━━━━━━━━━━━━━━━━\u001b[0m\u001b[37m\u001b[0m \u001b[1m1s\u001b[0m 18ms/step - loss: 8.1228 - val_loss: 9.8258\n",
            "Epoch 96/100\n",
            "\u001b[1m25/25\u001b[0m \u001b[32m━━━━━━━━━━━━━━━━━━━━\u001b[0m\u001b[37m\u001b[0m \u001b[1m1s\u001b[0m 19ms/step - loss: 7.5086 - val_loss: 9.5660\n",
            "Epoch 97/100\n",
            "\u001b[1m25/25\u001b[0m \u001b[32m━━━━━━━━━━━━━━━━━━━━\u001b[0m\u001b[37m\u001b[0m \u001b[1m0s\u001b[0m 17ms/step - loss: 7.7453 - val_loss: 9.8868\n",
            "Epoch 98/100\n",
            "\u001b[1m25/25\u001b[0m \u001b[32m━━━━━━━━━━━━━━━━━━━━\u001b[0m\u001b[37m\u001b[0m \u001b[1m0s\u001b[0m 19ms/step - loss: 8.6627 - val_loss: 9.6008\n",
            "Epoch 99/100\n",
            "\u001b[1m25/25\u001b[0m \u001b[32m━━━━━━━━━━━━━━━━━━━━\u001b[0m\u001b[37m\u001b[0m \u001b[1m1s\u001b[0m 19ms/step - loss: 8.7752 - val_loss: 9.4292\n",
            "Epoch 100/100\n",
            "\u001b[1m25/25\u001b[0m \u001b[32m━━━━━━━━━━━━━━━━━━━━\u001b[0m\u001b[37m\u001b[0m \u001b[1m1s\u001b[0m 18ms/step - loss: 7.6218 - val_loss: 9.4169\n"
          ]
        }
      ]
    },
    {
      "cell_type": "code",
      "source": [
        "hist = pd.DataFrame(history.history)"
      ],
      "metadata": {
        "id": "YGFGfcr2V93Y"
      },
      "execution_count": null,
      "outputs": []
    },
    {
      "cell_type": "code",
      "source": [
        "!pip install plotly\n",
        "import plotly.express as px\n",
        "\n",
        "history_loss = hist[['loss', 'val_loss']].reset_index()\n",
        "\n",
        "# Now that px is imported, the following code should work:\n",
        "fig = px.line(history_loss,\n",
        "              x=history_loss.index,\n",
        "              y=['loss', 'val_loss'],\n",
        "              labels={'index': 'Epochs', 'value': 'Loss'},\n",
        "              title='Loss & Val Loss')\n",
        "fig.update_layout(width=700, height=500)\n",
        "\n",
        "fig.show()"
      ],
      "metadata": {
        "colab": {
          "base_uri": "https://localhost:8080/",
          "height": 569
        },
        "id": "hQWWQ5OyWU8U",
        "outputId": "6e82c999-a93a-4932-bd8a-49f80752f2ae"
      },
      "execution_count": null,
      "outputs": [
        {
          "output_type": "stream",
          "name": "stdout",
          "text": [
            "Requirement already satisfied: plotly in /usr/local/lib/python3.10/dist-packages (5.24.1)\n",
            "Requirement already satisfied: tenacity>=6.2.0 in /usr/local/lib/python3.10/dist-packages (from plotly) (9.0.0)\n",
            "Requirement already satisfied: packaging in /usr/local/lib/python3.10/dist-packages (from plotly) (24.1)\n"
          ]
        },
        {
          "output_type": "display_data",
          "data": {
            "text/html": [
              "<html>\n",
              "<head><meta charset=\"utf-8\" /></head>\n",
              "<body>\n",
              "    <div>            <script src=\"https://cdnjs.cloudflare.com/ajax/libs/mathjax/2.7.5/MathJax.js?config=TeX-AMS-MML_SVG\"></script><script type=\"text/javascript\">if (window.MathJax && window.MathJax.Hub && window.MathJax.Hub.Config) {window.MathJax.Hub.Config({SVG: {font: \"STIX-Web\"}});}</script>                <script type=\"text/javascript\">window.PlotlyConfig = {MathJaxConfig: 'local'};</script>\n",
              "        <script charset=\"utf-8\" src=\"https://cdn.plot.ly/plotly-2.35.2.min.js\"></script>                <div id=\"f6ffab5b-fed3-4433-941a-a8ea99cb6d69\" class=\"plotly-graph-div\" style=\"height:500px; width:700px;\"></div>            <script type=\"text/javascript\">                                    window.PLOTLYENV=window.PLOTLYENV || {};                                    if (document.getElementById(\"f6ffab5b-fed3-4433-941a-a8ea99cb6d69\")) {                    Plotly.newPlot(                        \"f6ffab5b-fed3-4433-941a-a8ea99cb6d69\",                        [{\"hovertemplate\":\"variable=loss\\u003cbr\\u003e_index=%{x}\\u003cbr\\u003eLoss=%{y}\\u003cextra\\u003e\\u003c\\u002fextra\\u003e\",\"legendgroup\":\"loss\",\"line\":{\"color\":\"#636efa\",\"dash\":\"solid\"},\"marker\":{\"symbol\":\"circle\"},\"mode\":\"lines\",\"name\":\"loss\",\"orientation\":\"v\",\"showlegend\":true,\"x\":[0,1,2,3,4,5,6,7,8,9,10,11,12,13,14,15,16,17,18,19,20,21,22,23,24,25,26,27,28,29,30,31,32,33,34,35,36,37,38,39,40,41,42,43,44,45,46,47,48,49,50,51,52,53,54,55,56,57,58,59,60,61,62,63,64,65,66,67,68,69,70,71,72,73,74,75,76,77,78,79,80,81,82,83,84,85,86,87,88,89,90,91,92,93,94,95,96,97,98,99],\"xaxis\":\"x\",\"y\":[206.55117797851562,96.11791229248047,70.03137969970703,61.580039978027344,57.603267669677734,55.36423873901367,55.086666107177734,55.19100570678711,53.88136672973633,53.784420013427734,53.027801513671875,54.03907775878906,54.62580871582031,53.50361633300781,53.93115234375,53.2057991027832,54.761287689208984,53.603023529052734,52.9480094909668,55.022396087646484,54.441001892089844,54.105377197265625,54.735740661621094,52.74143981933594,53.010963439941406,52.80445861816406,45.411537170410156,33.46599197387695,27.170326232910156,23.86090087890625,19.791385650634766,18.373109817504883,17.048675537109375,15.013345718383789,13.338769912719727,12.734221458435059,12.018507957458496,11.210206031799316,11.349770545959473,11.847817420959473,11.257762908935547,10.587310791015625,10.868912696838379,10.514575958251953,10.031978607177734,10.238513946533203,10.497771263122559,9.770298957824707,10.062929153442383,9.94776439666748,10.07603931427002,10.055785179138184,9.084936141967773,9.629227638244629,9.633910179138184,9.30556869506836,9.169894218444824,10.115707397460938,9.773237228393555,9.262474060058594,9.343823432922363,9.208142280578613,8.918436050415039,8.71272087097168,9.615945816040039,8.908875465393066,8.937417984008789,8.080857276916504,8.720925331115723,8.965450286865234,8.756014823913574,8.6859130859375,8.292549133300781,8.624787330627441,8.111564636230469,9.303524017333984,8.681062698364258,8.116808891296387,8.399860382080078,8.728209495544434,8.333795547485352,8.231467247009277,8.296346664428711,7.876287460327148,8.593769073486328,8.421101570129395,9.166912078857422,8.24551773071289,8.596158027648926,8.277359962463379,8.536213874816895,8.227519035339355,8.393364906311035,8.426642417907715,8.102693557739258,8.25851058959961,8.0728759765625,8.363781929016113,8.855661392211914,7.729276180267334],\"yaxis\":\"y\",\"type\":\"scatter\"},{\"hovertemplate\":\"variable=val_loss\\u003cbr\\u003e_index=%{x}\\u003cbr\\u003eLoss=%{y}\\u003cextra\\u003e\\u003c\\u002fextra\\u003e\",\"legendgroup\":\"val_loss\",\"line\":{\"color\":\"#EF553B\",\"dash\":\"solid\"},\"marker\":{\"symbol\":\"circle\"},\"mode\":\"lines\",\"name\":\"val_loss\",\"orientation\":\"v\",\"showlegend\":true,\"x\":[0,1,2,3,4,5,6,7,8,9,10,11,12,13,14,15,16,17,18,19,20,21,22,23,24,25,26,27,28,29,30,31,32,33,34,35,36,37,38,39,40,41,42,43,44,45,46,47,48,49,50,51,52,53,54,55,56,57,58,59,60,61,62,63,64,65,66,67,68,69,70,71,72,73,74,75,76,77,78,79,80,81,82,83,84,85,86,87,88,89,90,91,92,93,94,95,96,97,98,99],\"xaxis\":\"x\",\"y\":[255.87075805664062,162.91461181640625,130.5502166748047,112.92123413085938,100.32699584960938,91.96959686279297,86.39198303222656,82.23775482177734,79.89170837402344,78.7372055053711,76.92242431640625,77.15839385986328,76.84878540039062,76.1925277709961,76.16966247558594,74.73351287841797,74.95081329345703,75.75309753417969,76.27831268310547,75.23759460449219,76.3394546508789,75.86446380615234,76.83190155029297,75.03590393066406,75.10423278808594,75.41820526123047,68.19071197509766,58.90401840209961,44.071510314941406,37.11201095581055,31.200658798217773,30.318204879760742,24.45907974243164,22.91347885131836,19.982250213623047,18.924869537353516,17.684812545776367,16.43518829345703,17.334232330322266,15.317814826965332,14.374792098999023,14.198846817016602,13.865215301513672,14.085606575012207,13.188576698303223,13.06043815612793,12.551047325134277,12.995172500610352,12.314563751220703,12.326581954956055,11.965627670288086,11.633922576904297,11.878286361694336,11.215559005737305,11.286120414733887,11.061514854431152,11.415882110595703,11.640279769897461,10.880522727966309,11.005169868469238,10.533753395080566,10.800442695617676,10.707893371582031,10.579566955566406,10.60359001159668,10.800877571105957,10.282726287841797,10.20814323425293,10.149057388305664,10.188017845153809,10.35177230834961,10.0311918258667,10.111459732055664,10.536164283752441,10.026373863220215,9.784749031066895,10.488697052001953,9.702319145202637,9.9791898727417,9.774052619934082,9.552624702453613,9.719910621643066,9.626021385192871,10.001702308654785,9.644351959228516,9.741586685180664,9.576079368591309,9.763235092163086,10.101334571838379,10.331290245056152,11.064765930175781,9.725373268127441,9.867218017578125,9.649779319763184,9.825811386108398,9.566020965576172,9.886816024780273,9.600788116455078,9.42917537689209,9.416910171508789],\"yaxis\":\"y\",\"type\":\"scatter\"}],                        {\"template\":{\"data\":{\"histogram2dcontour\":[{\"type\":\"histogram2dcontour\",\"colorbar\":{\"outlinewidth\":0,\"ticks\":\"\"},\"colorscale\":[[0.0,\"#0d0887\"],[0.1111111111111111,\"#46039f\"],[0.2222222222222222,\"#7201a8\"],[0.3333333333333333,\"#9c179e\"],[0.4444444444444444,\"#bd3786\"],[0.5555555555555556,\"#d8576b\"],[0.6666666666666666,\"#ed7953\"],[0.7777777777777778,\"#fb9f3a\"],[0.8888888888888888,\"#fdca26\"],[1.0,\"#f0f921\"]]}],\"choropleth\":[{\"type\":\"choropleth\",\"colorbar\":{\"outlinewidth\":0,\"ticks\":\"\"}}],\"histogram2d\":[{\"type\":\"histogram2d\",\"colorbar\":{\"outlinewidth\":0,\"ticks\":\"\"},\"colorscale\":[[0.0,\"#0d0887\"],[0.1111111111111111,\"#46039f\"],[0.2222222222222222,\"#7201a8\"],[0.3333333333333333,\"#9c179e\"],[0.4444444444444444,\"#bd3786\"],[0.5555555555555556,\"#d8576b\"],[0.6666666666666666,\"#ed7953\"],[0.7777777777777778,\"#fb9f3a\"],[0.8888888888888888,\"#fdca26\"],[1.0,\"#f0f921\"]]}],\"heatmap\":[{\"type\":\"heatmap\",\"colorbar\":{\"outlinewidth\":0,\"ticks\":\"\"},\"colorscale\":[[0.0,\"#0d0887\"],[0.1111111111111111,\"#46039f\"],[0.2222222222222222,\"#7201a8\"],[0.3333333333333333,\"#9c179e\"],[0.4444444444444444,\"#bd3786\"],[0.5555555555555556,\"#d8576b\"],[0.6666666666666666,\"#ed7953\"],[0.7777777777777778,\"#fb9f3a\"],[0.8888888888888888,\"#fdca26\"],[1.0,\"#f0f921\"]]}],\"heatmapgl\":[{\"type\":\"heatmapgl\",\"colorbar\":{\"outlinewidth\":0,\"ticks\":\"\"},\"colorscale\":[[0.0,\"#0d0887\"],[0.1111111111111111,\"#46039f\"],[0.2222222222222222,\"#7201a8\"],[0.3333333333333333,\"#9c179e\"],[0.4444444444444444,\"#bd3786\"],[0.5555555555555556,\"#d8576b\"],[0.6666666666666666,\"#ed7953\"],[0.7777777777777778,\"#fb9f3a\"],[0.8888888888888888,\"#fdca26\"],[1.0,\"#f0f921\"]]}],\"contourcarpet\":[{\"type\":\"contourcarpet\",\"colorbar\":{\"outlinewidth\":0,\"ticks\":\"\"}}],\"contour\":[{\"type\":\"contour\",\"colorbar\":{\"outlinewidth\":0,\"ticks\":\"\"},\"colorscale\":[[0.0,\"#0d0887\"],[0.1111111111111111,\"#46039f\"],[0.2222222222222222,\"#7201a8\"],[0.3333333333333333,\"#9c179e\"],[0.4444444444444444,\"#bd3786\"],[0.5555555555555556,\"#d8576b\"],[0.6666666666666666,\"#ed7953\"],[0.7777777777777778,\"#fb9f3a\"],[0.8888888888888888,\"#fdca26\"],[1.0,\"#f0f921\"]]}],\"surface\":[{\"type\":\"surface\",\"colorbar\":{\"outlinewidth\":0,\"ticks\":\"\"},\"colorscale\":[[0.0,\"#0d0887\"],[0.1111111111111111,\"#46039f\"],[0.2222222222222222,\"#7201a8\"],[0.3333333333333333,\"#9c179e\"],[0.4444444444444444,\"#bd3786\"],[0.5555555555555556,\"#d8576b\"],[0.6666666666666666,\"#ed7953\"],[0.7777777777777778,\"#fb9f3a\"],[0.8888888888888888,\"#fdca26\"],[1.0,\"#f0f921\"]]}],\"mesh3d\":[{\"type\":\"mesh3d\",\"colorbar\":{\"outlinewidth\":0,\"ticks\":\"\"}}],\"scatter\":[{\"fillpattern\":{\"fillmode\":\"overlay\",\"size\":10,\"solidity\":0.2},\"type\":\"scatter\"}],\"parcoords\":[{\"type\":\"parcoords\",\"line\":{\"colorbar\":{\"outlinewidth\":0,\"ticks\":\"\"}}}],\"scatterpolargl\":[{\"type\":\"scatterpolargl\",\"marker\":{\"colorbar\":{\"outlinewidth\":0,\"ticks\":\"\"}}}],\"bar\":[{\"error_x\":{\"color\":\"#2a3f5f\"},\"error_y\":{\"color\":\"#2a3f5f\"},\"marker\":{\"line\":{\"color\":\"#E5ECF6\",\"width\":0.5},\"pattern\":{\"fillmode\":\"overlay\",\"size\":10,\"solidity\":0.2}},\"type\":\"bar\"}],\"scattergeo\":[{\"type\":\"scattergeo\",\"marker\":{\"colorbar\":{\"outlinewidth\":0,\"ticks\":\"\"}}}],\"scatterpolar\":[{\"type\":\"scatterpolar\",\"marker\":{\"colorbar\":{\"outlinewidth\":0,\"ticks\":\"\"}}}],\"histogram\":[{\"marker\":{\"pattern\":{\"fillmode\":\"overlay\",\"size\":10,\"solidity\":0.2}},\"type\":\"histogram\"}],\"scattergl\":[{\"type\":\"scattergl\",\"marker\":{\"colorbar\":{\"outlinewidth\":0,\"ticks\":\"\"}}}],\"scatter3d\":[{\"type\":\"scatter3d\",\"line\":{\"colorbar\":{\"outlinewidth\":0,\"ticks\":\"\"}},\"marker\":{\"colorbar\":{\"outlinewidth\":0,\"ticks\":\"\"}}}],\"scattermapbox\":[{\"type\":\"scattermapbox\",\"marker\":{\"colorbar\":{\"outlinewidth\":0,\"ticks\":\"\"}}}],\"scatterternary\":[{\"type\":\"scatterternary\",\"marker\":{\"colorbar\":{\"outlinewidth\":0,\"ticks\":\"\"}}}],\"scattercarpet\":[{\"type\":\"scattercarpet\",\"marker\":{\"colorbar\":{\"outlinewidth\":0,\"ticks\":\"\"}}}],\"carpet\":[{\"aaxis\":{\"endlinecolor\":\"#2a3f5f\",\"gridcolor\":\"white\",\"linecolor\":\"white\",\"minorgridcolor\":\"white\",\"startlinecolor\":\"#2a3f5f\"},\"baxis\":{\"endlinecolor\":\"#2a3f5f\",\"gridcolor\":\"white\",\"linecolor\":\"white\",\"minorgridcolor\":\"white\",\"startlinecolor\":\"#2a3f5f\"},\"type\":\"carpet\"}],\"table\":[{\"cells\":{\"fill\":{\"color\":\"#EBF0F8\"},\"line\":{\"color\":\"white\"}},\"header\":{\"fill\":{\"color\":\"#C8D4E3\"},\"line\":{\"color\":\"white\"}},\"type\":\"table\"}],\"barpolar\":[{\"marker\":{\"line\":{\"color\":\"#E5ECF6\",\"width\":0.5},\"pattern\":{\"fillmode\":\"overlay\",\"size\":10,\"solidity\":0.2}},\"type\":\"barpolar\"}],\"pie\":[{\"automargin\":true,\"type\":\"pie\"}]},\"layout\":{\"autotypenumbers\":\"strict\",\"colorway\":[\"#636efa\",\"#EF553B\",\"#00cc96\",\"#ab63fa\",\"#FFA15A\",\"#19d3f3\",\"#FF6692\",\"#B6E880\",\"#FF97FF\",\"#FECB52\"],\"font\":{\"color\":\"#2a3f5f\"},\"hovermode\":\"closest\",\"hoverlabel\":{\"align\":\"left\"},\"paper_bgcolor\":\"white\",\"plot_bgcolor\":\"#E5ECF6\",\"polar\":{\"bgcolor\":\"#E5ECF6\",\"angularaxis\":{\"gridcolor\":\"white\",\"linecolor\":\"white\",\"ticks\":\"\"},\"radialaxis\":{\"gridcolor\":\"white\",\"linecolor\":\"white\",\"ticks\":\"\"}},\"ternary\":{\"bgcolor\":\"#E5ECF6\",\"aaxis\":{\"gridcolor\":\"white\",\"linecolor\":\"white\",\"ticks\":\"\"},\"baxis\":{\"gridcolor\":\"white\",\"linecolor\":\"white\",\"ticks\":\"\"},\"caxis\":{\"gridcolor\":\"white\",\"linecolor\":\"white\",\"ticks\":\"\"}},\"coloraxis\":{\"colorbar\":{\"outlinewidth\":0,\"ticks\":\"\"}},\"colorscale\":{\"sequential\":[[0.0,\"#0d0887\"],[0.1111111111111111,\"#46039f\"],[0.2222222222222222,\"#7201a8\"],[0.3333333333333333,\"#9c179e\"],[0.4444444444444444,\"#bd3786\"],[0.5555555555555556,\"#d8576b\"],[0.6666666666666666,\"#ed7953\"],[0.7777777777777778,\"#fb9f3a\"],[0.8888888888888888,\"#fdca26\"],[1.0,\"#f0f921\"]],\"sequentialminus\":[[0.0,\"#0d0887\"],[0.1111111111111111,\"#46039f\"],[0.2222222222222222,\"#7201a8\"],[0.3333333333333333,\"#9c179e\"],[0.4444444444444444,\"#bd3786\"],[0.5555555555555556,\"#d8576b\"],[0.6666666666666666,\"#ed7953\"],[0.7777777777777778,\"#fb9f3a\"],[0.8888888888888888,\"#fdca26\"],[1.0,\"#f0f921\"]],\"diverging\":[[0,\"#8e0152\"],[0.1,\"#c51b7d\"],[0.2,\"#de77ae\"],[0.3,\"#f1b6da\"],[0.4,\"#fde0ef\"],[0.5,\"#f7f7f7\"],[0.6,\"#e6f5d0\"],[0.7,\"#b8e186\"],[0.8,\"#7fbc41\"],[0.9,\"#4d9221\"],[1,\"#276419\"]]},\"xaxis\":{\"gridcolor\":\"white\",\"linecolor\":\"white\",\"ticks\":\"\",\"title\":{\"standoff\":15},\"zerolinecolor\":\"white\",\"automargin\":true,\"zerolinewidth\":2},\"yaxis\":{\"gridcolor\":\"white\",\"linecolor\":\"white\",\"ticks\":\"\",\"title\":{\"standoff\":15},\"zerolinecolor\":\"white\",\"automargin\":true,\"zerolinewidth\":2},\"scene\":{\"xaxis\":{\"backgroundcolor\":\"#E5ECF6\",\"gridcolor\":\"white\",\"linecolor\":\"white\",\"showbackground\":true,\"ticks\":\"\",\"zerolinecolor\":\"white\",\"gridwidth\":2},\"yaxis\":{\"backgroundcolor\":\"#E5ECF6\",\"gridcolor\":\"white\",\"linecolor\":\"white\",\"showbackground\":true,\"ticks\":\"\",\"zerolinecolor\":\"white\",\"gridwidth\":2},\"zaxis\":{\"backgroundcolor\":\"#E5ECF6\",\"gridcolor\":\"white\",\"linecolor\":\"white\",\"showbackground\":true,\"ticks\":\"\",\"zerolinecolor\":\"white\",\"gridwidth\":2}},\"shapedefaults\":{\"line\":{\"color\":\"#2a3f5f\"}},\"annotationdefaults\":{\"arrowcolor\":\"#2a3f5f\",\"arrowhead\":0,\"arrowwidth\":1},\"geo\":{\"bgcolor\":\"white\",\"landcolor\":\"#E5ECF6\",\"subunitcolor\":\"white\",\"showland\":true,\"showlakes\":true,\"lakecolor\":\"white\"},\"title\":{\"x\":0.05},\"mapbox\":{\"style\":\"light\"}}},\"xaxis\":{\"anchor\":\"y\",\"domain\":[0.0,1.0],\"title\":{\"text\":\"_index\"}},\"yaxis\":{\"anchor\":\"x\",\"domain\":[0.0,1.0],\"title\":{\"text\":\"Loss\"}},\"legend\":{\"title\":{\"text\":\"variable\"},\"tracegroupgap\":0},\"title\":{\"text\":\"Loss & Val Loss\"},\"width\":700,\"height\":500},                        {\"responsive\": true}                    ).then(function(){\n",
              "                            \n",
              "var gd = document.getElementById('f6ffab5b-fed3-4433-941a-a8ea99cb6d69');\n",
              "var x = new MutationObserver(function (mutations, observer) {{\n",
              "        var display = window.getComputedStyle(gd).display;\n",
              "        if (!display || display === 'none') {{\n",
              "            console.log([gd, 'removed!']);\n",
              "            Plotly.purge(gd);\n",
              "            observer.disconnect();\n",
              "        }}\n",
              "}});\n",
              "\n",
              "// Listen for the removal of the full notebook cells\n",
              "var notebookContainer = gd.closest('#notebook-container');\n",
              "if (notebookContainer) {{\n",
              "    x.observe(notebookContainer, {childList: true});\n",
              "}}\n",
              "\n",
              "// Listen for the clearing of the current output cell\n",
              "var outputEl = gd.closest('.output');\n",
              "if (outputEl) {{\n",
              "    x.observe(outputEl, {childList: true});\n",
              "}}\n",
              "\n",
              "                        })                };                            </script>        </div>\n",
              "</body>\n",
              "</html>"
            ]
          },
          "metadata": {}
        }
      ]
    },
    {
      "cell_type": "code",
      "source": [
        "train_pred = model.predict(X_train).flatten()\n",
        "val_pred = model.predict(X_val).flatten()\n",
        "test_pred = model.predict(X_test).flatten()"
      ],
      "metadata": {
        "colab": {
          "base_uri": "https://localhost:8080/"
        },
        "id": "6riMAIkUWWjr",
        "outputId": "5321569a-98c8-4218-9f21-77a64b5991c3"
      },
      "execution_count": null,
      "outputs": [
        {
          "output_type": "stream",
          "name": "stdout",
          "text": [
            "\u001b[1m25/25\u001b[0m \u001b[32m━━━━━━━━━━━━━━━━━━━━\u001b[0m\u001b[37m\u001b[0m \u001b[1m2s\u001b[0m 15ms/step\n",
            "\u001b[1m7/7\u001b[0m \u001b[32m━━━━━━━━━━━━━━━━━━━━\u001b[0m\u001b[37m\u001b[0m \u001b[1m1s\u001b[0m 220ms/step\n",
            "\u001b[1m15/15\u001b[0m \u001b[32m━━━━━━━━━━━━━━━━━━━━\u001b[0m\u001b[37m\u001b[0m \u001b[1m0s\u001b[0m 8ms/step\n"
          ]
        }
      ]
    },
    {
      "cell_type": "code",
      "source": [
        "pred = np.concatenate([train_pred, val_pred, test_pred])\n",
        "df_pred = pd.DataFrame(data[\"temp_max\"].copy())\n",
        "df_pred.columns = [\"actual\"]\n",
        "df_pred = df_pred[WINDOW:]\n",
        "df_pred[\"predicted\"] = pred\n",
        "\n",
        "df_long = df_pred[800:].reset_index()\n",
        "df_long = df_long.melt(id_vars='index', value_vars=['actual', 'predicted'],\n",
        "                        var_name='Type', value_name='Temperature')\n",
        "\n",
        "fig_val = px.line(df_long, x='index', y='Temperature', color='Type',\n",
        "                  title=\"Validation Results\",\n",
        "                  labels={'Temperature': 'Temperature', 'index': 'Time'},\n",
        "                  color_discrete_map={'actual': 'blue', 'predicted': 'red'})\n",
        "fig.update_layout(width=700, height=500)\n",
        "\n",
        "fig_val.show()"
      ],
      "metadata": {
        "colab": {
          "base_uri": "https://localhost:8080/",
          "height": 542
        },
        "id": "lL5xq3TzWmTg",
        "outputId": "3a260f55-f0b0-4212-8e71-ba0045d07c5a"
      },
      "execution_count": null,
      "outputs": [
        {
          "output_type": "display_data",
          "data": {
            "text/html": [
              "<html>\n",
              "<head><meta charset=\"utf-8\" /></head>\n",
              "<body>\n",
              "    <div>            <script src=\"https://cdnjs.cloudflare.com/ajax/libs/mathjax/2.7.5/MathJax.js?config=TeX-AMS-MML_SVG\"></script><script type=\"text/javascript\">if (window.MathJax && window.MathJax.Hub && window.MathJax.Hub.Config) {window.MathJax.Hub.Config({SVG: {font: \"STIX-Web\"}});}</script>                <script type=\"text/javascript\">window.PlotlyConfig = {MathJaxConfig: 'local'};</script>\n",
              "        <script charset=\"utf-8\" src=\"https://cdn.plot.ly/plotly-2.35.2.min.js\"></script>                <div id=\"637a942a-e91f-4ca5-9d3f-75274f794d58\" class=\"plotly-graph-div\" style=\"height:525px; width:100%;\"></div>            <script type=\"text/javascript\">                                    window.PLOTLYENV=window.PLOTLYENV || {};                                    if (document.getElementById(\"637a942a-e91f-4ca5-9d3f-75274f794d58\")) {                    Plotly.newPlot(                        \"637a942a-e91f-4ca5-9d3f-75274f794d58\",                        [{\"hovertemplate\":\"Type=actual\\u003cbr\\u003eTime=%{x}\\u003cbr\\u003eTemperature=%{y}\\u003cextra\\u003e\\u003c\\u002fextra\\u003e\",\"legendgroup\":\"actual\",\"line\":{\"color\":\"blue\",\"dash\":\"solid\"},\"marker\":{\"symbol\":\"circle\"},\"mode\":\"lines\",\"name\":\"actual\",\"showlegend\":true,\"x\":[810,811,812,813,814,815,816,817,818,819,820,821,822,823,824,825,826,827,828,829,830,831,832,833,834,835,836,837,838,839,840,841,842,843,844,845,846,847,848,849,850,851,852,853,854,855,856,857,858,859,860,861,862,863,864,865,866,867,868,869,870,871,872,873,874,875,876,877,878,879,880,881,882,883,884,885,886,887,888,889,890,891,892,893,894,895,896,897,898,899,900,901,902,903,904,905,906,907,908,909,910,911,912,913,914,915,916,917,918,919,920,921,922,923,924,925,926,927,928,929,930,931,932,933,934,935,936,937,938,939,940,941,942,943,944,945,946,947,948,949,950,951,952,953,954,955,956,957,958,959,960,961,962,963,964,965,966,967,968,969,970,971,972,973,974,975,976,977,978,979,980,981,982,983,984,985,986,987,988,989,990,991,992,993,994,995,996,997,998,999,1000,1001,1002,1003,1004,1005,1006,1007,1008,1009,1010,1011,1012,1013,1014,1015,1016,1017,1018,1019,1020,1021,1022,1023,1024,1025,1026,1027,1028,1029,1030,1031,1032,1033,1034,1035,1036,1037,1038,1039,1040,1041,1042,1043,1044,1045,1046,1047,1048,1049,1050,1051,1052,1053,1054,1055,1056,1057,1058,1059,1060,1061,1062,1063,1064,1065,1066,1067,1068,1069,1070,1071,1072,1073,1074,1075,1076,1077,1078,1079,1080,1081,1082,1083,1084,1085,1086,1087,1088,1089,1090,1091,1092,1093,1094,1095,1096,1097,1098,1099,1100,1101,1102,1103,1104,1105,1106,1107,1108,1109,1110,1111,1112,1113,1114,1115,1116,1117,1118,1119,1120,1121,1122,1123,1124,1125,1126,1127,1128,1129,1130,1131,1132,1133,1134,1135,1136,1137,1138,1139,1140,1141,1142,1143,1144,1145,1146,1147,1148,1149,1150,1151,1152,1153,1154,1155,1156,1157,1158,1159,1160,1161,1162,1163,1164,1165,1166,1167,1168,1169,1170,1171,1172,1173,1174,1175,1176,1177,1178,1179,1180,1181,1182,1183,1184,1185,1186,1187,1188,1189,1190,1191,1192,1193,1194,1195,1196,1197,1198,1199,1200,1201,1202,1203,1204,1205,1206,1207,1208,1209,1210,1211,1212,1213,1214,1215,1216,1217,1218,1219,1220,1221,1222,1223,1224,1225,1226,1227,1228,1229,1230,1231,1232,1233,1234,1235,1236,1237,1238,1239,1240,1241,1242,1243,1244,1245,1246,1247,1248,1249,1250,1251,1252,1253,1254,1255,1256,1257,1258,1259,1260,1261,1262,1263,1264,1265,1266,1267,1268,1269,1270,1271,1272,1273,1274,1275,1276,1277,1278,1279,1280,1281,1282,1283,1284,1285,1286,1287,1288,1289,1290,1291,1292,1293,1294,1295,1296,1297,1298,1299,1300,1301,1302,1303,1304,1305,1306,1307,1308,1309,1310,1311,1312,1313,1314,1315,1316,1317,1318,1319,1320,1321,1322,1323,1324,1325,1326,1327,1328,1329,1330,1331,1332,1333,1334,1335,1336,1337,1338,1339,1340,1341,1342,1343,1344,1345,1346,1347,1348,1349,1350,1351,1352,1353,1354,1355,1356,1357,1358,1359,1360,1361,1362,1363,1364,1365,1366,1367,1368,1369,1370,1371,1372,1373,1374,1375,1376,1377,1378,1379,1380,1381,1382,1383,1384,1385,1386,1387,1388,1389,1390,1391,1392,1393,1394,1395,1396,1397,1398,1399,1400,1401,1402,1403,1404,1405,1406,1407,1408,1409,1410,1411,1412,1413,1414,1415,1416,1417,1418,1419,1420,1421,1422,1423,1424,1425,1426,1427,1428,1429,1430,1431,1432,1433,1434,1435,1436,1437,1438,1439,1440,1441,1442,1443,1444,1445,1446,1447,1448,1449,1450,1451,1452,1453,1454,1455,1456,1457,1458,1459,1460],\"xaxis\":\"x\",\"y\":[10.6,11.1,12.8,18.9,13.9,11.1,12.2,11.7,11.7,11.1,15.6,14.4,14.4,13.3,12.8,11.7,13.9,21.1,15.6,14.4,15.0,17.2,16.1,20.6,20.0,14.4,11.1,11.7,14.4,11.7,15.6,17.2,12.2,11.7,13.9,14.4,15.0,11.1,16.1,25.0,27.8,29.4,18.3,15.0,14.4,15.6,16.7,18.3,13.9,13.3,15.6,18.9,24.4,26.7,27.8,26.7,20.0,20.0,20.0,21.1,22.2,20.0,24.4,20.0,18.3,15.0,18.3,20.0,18.9,18.9,20.6,23.3,22.2,23.3,18.3,19.4,22.2,25.0,24.4,23.3,21.1,20.0,23.9,21.7,15.6,17.8,18.3,17.8,17.8,18.9,25.6,20.0,22.2,25.0,25.0,24.4,26.1,21.1,21.1,20.0,20.6,25.6,34.4,27.2,21.7,23.9,24.4,28.9,27.2,30.0,26.7,28.9,31.1,32.2,29.4,27.8,31.1,31.1,26.7,23.9,25.6,19.4,23.9,21.1,18.9,20.6,22.8,26.1,28.3,30.6,30.0,29.4,30.6,28.9,29.4,31.7,32.8,25.0,26.1,25.6,25.6,27.2,30.6,35.6,27.2,23.3,21.1,24.4,25.6,27.8,29.4,27.2,21.7,21.1,23.9,27.8,25.0,28.9,31.1,28.9,23.3,22.8,17.8,21.1,23.3,20.0,20.6,23.9,27.8,32.2,28.3,21.1,21.7,22.2,24.4,24.4,28.3,30.0,30.6,22.2,22.8,19.4,23.9,24.4,26.1,22.2,18.9,18.9,21.7,20.0,20.6,18.9,16.7,19.4,18.3,19.4,22.2,21.7,23.9,25.6,18.9,20.6,17.2,18.3,18.3,17.8,21.1,16.7,16.1,20.6,16.7,19.4,22.2,16.1,16.1,15.6,14.4,14.4,16.7,12.8,15.6,15.0,16.7,15.6,12.8,11.1,13.3,13.9,14.4,15.0,16.7,14.4,12.8,13.3,11.1,7.8,6.7,7.2,7.2,8.3,9.4,10.6,7.2,11.1,11.1,11.1,9.4,12.8,11.7,13.9,15.0,14.4,12.8,4.4,2.8,4.4,5.6,10.0,8.3,12.8,11.7,14.4,14.4,16.1,18.9,14.4,11.1,10.0,12.8,12.2,10.0,8.9,9.4,11.1,12.8,12.8,10.6,12.2,7.2,7.8,5.6,9.4,6.7,6.1,3.3,3.3,5.6,5.6,5.0,10.6,12.2,12.2,7.8,7.8,10.0,7.8,9.4,11.1,9.4,6.1,7.8,11.7,13.3,13.9,10.0,10.0,7.2,9.4,12.2,14.4,17.2,16.1,11.1,12.2,12.2,8.3,7.2,9.4,11.1,10.0,10.6,13.3,14.4,12.2,15.0,13.3,12.8,12.8,16.7,15.6,14.4,12.2,15.0,16.1,12.2,10.6,11.1,12.2,11.7,12.8,11.1,10.0,11.7,10.0,12.2,11.1,11.1,10.6,12.8,13.3,15.0,16.7,17.2,14.4,13.3,14.4,17.8,17.2,13.9,10.6,13.9,13.3,15.6,15.6,13.9,13.3,11.7,11.1,12.8,14.4,20.6,18.3,15.6,15.6,17.8,12.8,12.8,13.3,11.1,12.8,16.7,13.9,14.4,17.2,17.2,13.9,11.7,13.3,11.7,11.7,13.9,17.8,18.9,18.9,21.1,22.8,17.2,15.6,12.2,12.2,13.3,15.6,25.0,15.6,16.1,17.2,18.3,18.3,20.6,17.2,14.4,16.7,20.6,23.9,26.7,19.4,13.9,15.6,12.2,17.8,20.0,15.6,19.4,25.6,21.7,23.3,25.6,16.7,16.1,17.8,15.6,21.7,24.4,27.8,26.1,22.8,25.0,16.1,17.8,20.0,22.8,26.7,29.4,31.1,30.6,28.9,25.6,24.4,20.0,23.9,27.8,30.0,22.8,25.0,24.4,23.9,25.0,25.6,25.0,26.1,25.6,30.6,31.7,33.3,28.3,28.9,30.6,32.2,33.9,33.3,33.3,32.8,29.4,27.2,30.0,28.9,21.1,22.2,26.1,25.6,27.8,26.1,26.1,27.8,33.3,35.0,26.7,23.9,23.9,26.1,22.8,21.1,22.2,23.3,27.8,32.2,34.4,34.4,33.3,30.6,28.3,26.1,23.3,25.0,28.3,25.0,28.3,28.9,30.0,28.3,28.3,18.3,21.7,25.0,27.2,30.0,31.7,22.8,22.2,26.7,27.8,23.9,25.6,28.3,29.4,23.3,22.2,20.0,18.9,19.4,19.4,18.3,18.3,20.6,16.1,21.1,22.8,24.4,25.0,27.2,26.7,20.6,16.7,17.8,20.0,18.3,19.4,21.1,22.8,18.3,18.9,20.6,22.2,15.6,18.3,17.8,21.1,21.7,18.3,21.1,15.6,19.4,22.8,23.3,18.3,16.1,18.9,19.4,21.1,17.8,18.3,16.7,15.0,21.1,20.0,19.4,15.0,17.2,17.8,16.1,16.1,12.8,15.0,19.4,12.2,16.1,13.9,15.0,17.2,15.6,12.2,11.1,10.6,10.0,11.7,15.6,12.2,11.1,10.0,11.1,11.1,11.1,13.3,9.4,8.9,8.9,13.3,8.9,8.9,8.3,8.9,10.0,6.7,6.7,7.2,9.4,9.4,7.2,1.7,5.6,10.0,10.6,15.6,10.6,10.0,12.8,11.1,15.6,12.2,11.7,9.4,8.9,7.8,7.8,6.7,6.1,6.7,8.9,8.3,7.8,5.6,7.8,5.0,5.6,5.0,4.4,4.4,5.0,7.2,5.6,5.6],\"yaxis\":\"y\",\"type\":\"scattergl\"},{\"hovertemplate\":\"Type=predicted\\u003cbr\\u003eTime=%{x}\\u003cbr\\u003eTemperature=%{y}\\u003cextra\\u003e\\u003c\\u002fextra\\u003e\",\"legendgroup\":\"predicted\",\"line\":{\"color\":\"red\",\"dash\":\"solid\"},\"marker\":{\"symbol\":\"circle\"},\"mode\":\"lines\",\"name\":\"predicted\",\"showlegend\":true,\"x\":[810,811,812,813,814,815,816,817,818,819,820,821,822,823,824,825,826,827,828,829,830,831,832,833,834,835,836,837,838,839,840,841,842,843,844,845,846,847,848,849,850,851,852,853,854,855,856,857,858,859,860,861,862,863,864,865,866,867,868,869,870,871,872,873,874,875,876,877,878,879,880,881,882,883,884,885,886,887,888,889,890,891,892,893,894,895,896,897,898,899,900,901,902,903,904,905,906,907,908,909,910,911,912,913,914,915,916,917,918,919,920,921,922,923,924,925,926,927,928,929,930,931,932,933,934,935,936,937,938,939,940,941,942,943,944,945,946,947,948,949,950,951,952,953,954,955,956,957,958,959,960,961,962,963,964,965,966,967,968,969,970,971,972,973,974,975,976,977,978,979,980,981,982,983,984,985,986,987,988,989,990,991,992,993,994,995,996,997,998,999,1000,1001,1002,1003,1004,1005,1006,1007,1008,1009,1010,1011,1012,1013,1014,1015,1016,1017,1018,1019,1020,1021,1022,1023,1024,1025,1026,1027,1028,1029,1030,1031,1032,1033,1034,1035,1036,1037,1038,1039,1040,1041,1042,1043,1044,1045,1046,1047,1048,1049,1050,1051,1052,1053,1054,1055,1056,1057,1058,1059,1060,1061,1062,1063,1064,1065,1066,1067,1068,1069,1070,1071,1072,1073,1074,1075,1076,1077,1078,1079,1080,1081,1082,1083,1084,1085,1086,1087,1088,1089,1090,1091,1092,1093,1094,1095,1096,1097,1098,1099,1100,1101,1102,1103,1104,1105,1106,1107,1108,1109,1110,1111,1112,1113,1114,1115,1116,1117,1118,1119,1120,1121,1122,1123,1124,1125,1126,1127,1128,1129,1130,1131,1132,1133,1134,1135,1136,1137,1138,1139,1140,1141,1142,1143,1144,1145,1146,1147,1148,1149,1150,1151,1152,1153,1154,1155,1156,1157,1158,1159,1160,1161,1162,1163,1164,1165,1166,1167,1168,1169,1170,1171,1172,1173,1174,1175,1176,1177,1178,1179,1180,1181,1182,1183,1184,1185,1186,1187,1188,1189,1190,1191,1192,1193,1194,1195,1196,1197,1198,1199,1200,1201,1202,1203,1204,1205,1206,1207,1208,1209,1210,1211,1212,1213,1214,1215,1216,1217,1218,1219,1220,1221,1222,1223,1224,1225,1226,1227,1228,1229,1230,1231,1232,1233,1234,1235,1236,1237,1238,1239,1240,1241,1242,1243,1244,1245,1246,1247,1248,1249,1250,1251,1252,1253,1254,1255,1256,1257,1258,1259,1260,1261,1262,1263,1264,1265,1266,1267,1268,1269,1270,1271,1272,1273,1274,1275,1276,1277,1278,1279,1280,1281,1282,1283,1284,1285,1286,1287,1288,1289,1290,1291,1292,1293,1294,1295,1296,1297,1298,1299,1300,1301,1302,1303,1304,1305,1306,1307,1308,1309,1310,1311,1312,1313,1314,1315,1316,1317,1318,1319,1320,1321,1322,1323,1324,1325,1326,1327,1328,1329,1330,1331,1332,1333,1334,1335,1336,1337,1338,1339,1340,1341,1342,1343,1344,1345,1346,1347,1348,1349,1350,1351,1352,1353,1354,1355,1356,1357,1358,1359,1360,1361,1362,1363,1364,1365,1366,1367,1368,1369,1370,1371,1372,1373,1374,1375,1376,1377,1378,1379,1380,1381,1382,1383,1384,1385,1386,1387,1388,1389,1390,1391,1392,1393,1394,1395,1396,1397,1398,1399,1400,1401,1402,1403,1404,1405,1406,1407,1408,1409,1410,1411,1412,1413,1414,1415,1416,1417,1418,1419,1420,1421,1422,1423,1424,1425,1426,1427,1428,1429,1430,1431,1432,1433,1434,1435,1436,1437,1438,1439,1440,1441,1442,1443,1444,1445,1446,1447,1448,1449,1450,1451,1452,1453,1454,1455,1456,1457,1458,1459,1460],\"xaxis\":\"x\",\"y\":[11.689146041870117,11.952239036560059,11.671431541442871,13.033753395080566,19.011255264282227,12.725629806518555,13.00123405456543,13.39477252960205,12.923941612243652,13.10321044921875,12.118939399719238,15.997532844543457,14.225187301635742,14.516929626464844,13.587544441223145,13.789229393005371,12.448477745056152,14.67509651184082,22.205467224121094,14.524333953857422,15.34108829498291,16.140228271484375,18.488340377807617,15.898201942443848,21.11037254333496,18.283111572265625,15.361279487609863,13.659928321838379,13.35494327545166,14.959091186523438,12.854212760925293,16.176496505737305,18.456148147583008,13.808477401733398,13.639223098754883,14.389740943908691,15.166938781738281,15.198198318481445,12.09768009185791,15.98642349243164,23.913265228271484,25.47246551513672,25.75676918029785,18.80062484741211,17.982799530029297,17.494464874267578,17.291166305541992,17.772693634033203,18.405780792236328,15.83902645111084,15.2582368850708,16.615774154663086,20.618215560913086,24.391483306884766,24.690221786499023,25.544992446899414,24.035442352294922,18.84811782836914,20.283035278320312,20.664085388183594,22.70403289794922,23.278894424438477,21.802196502685547,25.33761215209961,20.268157958984375,19.684974670410156,17.967575073242188,18.957550048828125,20.54310417175293,19.236957550048828,19.89710807800293,21.341318130493164,23.865131378173828,20.02337646484375,23.287635803222656,18.706287384033203,20.441587448120117,23.361886978149414,25.638851165771484,23.50394630432129,23.977094650268555,21.742740631103516,21.21565818786621,25.12417984008789,21.98734474182129,20.014049530029297,19.526294708251953,18.924880981445312,18.516199111938477,18.53955841064453,19.411113739013672,25.004833221435547,17.96649169921875,22.097457885742188,25.159618377685547,24.215435028076172,23.60476303100586,26.190814971923828,22.46919822692871,22.52553939819336,21.83368492126465,22.606374740600586,26.01614761352539,27.24569320678711,23.272722244262695,21.378948211669922,24.945919036865234,24.577207565307617,26.906293869018555,25.165420532226562,27.055757522583008,24.274028778076172,26.679346084594727,27.341163635253906,27.454267501831055,27.00325584411621,26.974414825439453,27.43478012084961,27.4464111328125,24.609773635864258,23.988128662109375,26.411752700805664,23.12289810180664,24.877117156982422,22.626115798950195,21.47073745727539,22.231393814086914,24.420047760009766,26.392032623291016,26.857891082763672,27.29180335998535,27.192934036254883,27.275978088378906,27.424579620361328,26.95501708984375,27.324464797973633,27.485422134399414,27.51125717163086,23.44260025024414,25.804630279541016,25.62828254699707,26.747209548950195,27.172603607177734,27.44158935546875,27.531930923461914,23.80533790588379,23.03598976135254,22.52092933654785,25.60773468017578,26.077552795410156,27.165298461914062,27.341768264770508,25.89371109008789,22.222087860107422,22.030057907104492,24.712961196899414,26.9204044342041,23.465702056884766,26.359556198120117,27.266321182250977,26.878849029541016,22.742483139038086,23.499292373657227,22.167810440063477,22.72979736328125,23.97493553161621,22.46626091003418,22.717296600341797,25.192380905151367,26.764204025268555,27.22543716430664,24.77884292602539,21.579349517822266,22.762649536132812,22.801227569580078,25.785093307495117,24.458635330200195,26.82863426208496,27.262924194335938,27.39282989501953,23.09489631652832,23.837188720703125,22.33393096923828,24.90418815612793,24.324430465698242,26.606157302856445,22.749250411987305,20.988666534423828,20.878623962402344,22.91395378112793,21.119773864746094,21.897981643676758,19.845199584960938,18.49932861328125,20.98944854736328,18.363672256469727,20.316295623779297,23.437170028686523,20.357751846313477,24.282079696655273,24.81550407409668,18.871185302734375,21.46322250366211,19.250019073486328,19.744529724121094,19.485092163085938,19.06349754333496,22.91447639465332,17.417232513427734,17.594898223876953,22.94965362548828,16.528642654418945,19.874189376831055,23.868024826049805,17.204668045043945,17.845348358154297,17.131624221801758,16.2132511138916,16.186487197875977,17.860111236572266,14.331893920898438,16.310930252075195,15.070305824279785,17.344308853149414,15.457439422607422,13.979503631591797,12.89399528503418,14.201744079589844,14.286131858825684,15.062511444091797,14.85688304901123,16.9073486328125,14.312020301818848,13.907686233520508,13.958800315856934,12.388535499572754,9.738176345825195,8.358905792236328,9.150078773498535,8.698677062988281,9.35982608795166,9.772039413452148,10.703370094299316,7.788113594055176,10.75474739074707,10.695246696472168,11.899824142456055,9.331998825073242,12.435463905334473,11.425739288330078,13.841516494750977,14.33466625213623,14.524996757507324,13.13503360748291,7.949841022491455,3.8641014099121094,4.429218292236328,6.97366189956665,9.272553443908691,7.314093589782715,10.831950187683105,10.529072761535645,13.498905181884766,13.258028030395508,15.71258544921875,19.486677169799805,13.926464080810547,13.13946533203125,11.97376537322998,13.692129135131836,12.699638366699219,12.071590423583984,10.116625785827637,11.701955795288086,11.66197395324707,12.735848426818848,12.364072799682617,11.44810962677002,12.422229766845703,8.817946434020996,10.816458702087402,7.644369602203369,10.993148803710938,8.068540573120117,8.873268127441406,5.160130500793457,4.5917510986328125,6.7368268966674805,6.806144714355469,4.897907733917236,8.586393356323242,10.399282455444336,11.252654075622559,7.967990398406982,9.934161186218262,10.675481796264648,10.104375839233398,10.295008659362793,11.101885795593262,10.906052589416504,7.252585411071777,9.753804206848145,11.208809852600098,12.217215538024902,12.46914291381836,10.315254211425781,11.47014331817627,8.585183143615723,11.502096176147461,12.221519470214844,14.193032264709473,15.521781921386719,15.04686164855957,11.968097686767578,13.108072280883789,12.55280876159668,10.809454917907715,8.876358032226562,10.637451171875,11.580619812011719,10.253046035766602,11.20633316040039,12.493488311767578,13.715642929077148,12.038511276245117,14.219780921936035,12.767740249633789,13.723682403564453,13.218534469604492,17.77116584777832,14.957868576049805,14.773660659790039,13.293350219726562,15.469830513000488,16.3866024017334,13.376938819885254,12.535662651062012,12.638961791992188,13.282026290893555,12.49537181854248,13.23977279663086,11.563337326049805,12.087138175964355,12.226243019104004,11.57490062713623,12.431764602661133,11.260828971862793,12.376534461975098,10.812724113464355,13.239500045776367,12.959820747375488,14.819473266601562,16.23076629638672,16.60228157043457,14.192550659179688,14.112984657287598,14.688765525817871,19.24262809753418,16.089059829711914,14.439441680908203,12.838052749633789,14.598739624023438,13.416669845581055,16.470319747924805,15.213308334350586,14.834123611450195,14.359173774719238,13.022655487060547,12.685301780700684,13.537569999694824,15.124134063720703,21.749576568603516,15.890047073364258,15.211893081665039,16.093151092529297,18.34564208984375,13.81535816192627,14.465764999389648,14.390544891357422,13.315133094787598,14.057324409484863,18.313369750976562,13.941783905029297,14.956430435180664,17.883338928222656,16.92169952392578,14.113508224487305,13.344070434570312,13.944867134094238,12.72905158996582,13.24992847442627,14.21495246887207,19.8349552154541,18.106971740722656,17.30129051208496,21.22154426574707,22.000991821289062,16.03213882446289,16.280752182006836,14.534043312072754,15.015046119689941,15.04133415222168,16.899118423461914,23.993635177612305,15.64090347290039,16.910390853881836,19.104217529296875,18.869340896606445,18.25153923034668,21.26612663269043,17.196788787841797,16.231128692626953,17.603958129882812,21.96123504638672,24.25780487060547,25.5363712310791,18.764949798583984,17.356521606445312,17.818359375,14.901636123657227,17.959976196289062,20.929990768432617,16.92172622680664,20.028879165649414,25.242938995361328,17.81446647644043,22.850811004638672,24.9633846282959,18.792293548583984,18.898073196411133,19.164987564086914,18.181167602539062,22.28852081298828,24.722707748413086,26.453508377075195,22.377971649169922,21.01304054260254,25.27355194091797,20.870710372924805,20.21889305114746,21.055639266967773,24.005714416503906,26.51321029663086,27.102632522583008,27.278244018554688,27.23285675048828,26.955224990844727,23.928115844726562,24.813751220703125,22.639892578125,25.03181266784668,26.85486602783203,27.356843948364258,23.118452072143555,25.194454193115234,23.93189239501953,25.610164642333984,26.162900924682617,26.642732620239258,25.624874114990234,26.744571685791016,25.803529739379883,27.18040657043457,27.414213180541992,27.492469787597656,25.214330673217773,26.95353889465332,27.401884078979492,27.48451805114746,27.525535583496094,27.520158767700195,27.52649688720703,27.51828956604004,27.21627426147461,26.818147659301758,27.374176025390625,27.216489791870117,23.087732315063477,23.88103485107422,26.408435821533203,26.342613220214844,27.168615341186523,24.75910758972168,26.37140655517578,27.147525787353516,27.47093391418457,27.519987106323242,23.527193069458008,24.00111198425293,25.36210823059082,26.918642044067383,23.262481689453125,22.157854080200195,23.47932243347168,25.24791145324707,27.005590438842773,27.386512756347656,27.48832893371582,27.5132999420166,27.50079917907715,27.323148727416992,26.95508575439453,25.937278747558594,23.662090301513672,26.02996253967285,27.176776885986328,23.70796775817871,26.360103607177734,27.109195709228516,27.381528854370117,26.662616729736328,27.137327194213867,23.23053741455078,23.030519485473633,25.5317440032959,27.028797149658203,27.36297607421875,27.455890655517578,23.138933181762695,23.397626876831055,26.367795944213867,27.029260635375977,23.202009201049805,25.665557861328125,27.045774459838867,27.332090377807617,23.11491584777832,22.995948791503906,22.1685791015625,21.523014068603516,21.45110511779785,21.292295455932617,20.16429328918457,19.475542068481445,21.754085540771484,17.221847534179688,21.651552200317383,23.299991607666016,24.557308197021484,23.91239356994629,26.062829971313477,24.705114364624023,20.9252872467041,19.849666595458984,20.024282455444336,20.612272262573242,19.87157440185547,20.163606643676758,21.693626403808594,23.575002670288086,18.120180130004883,19.345062255859375,21.719575881958008,23.08770179748535,17.878446578979492,19.37858772277832,18.86669921875,22.595590591430664,21.742361068725586,18.44381332397461,22.55179214477539,17.146991729736328,19.68507194519043,24.33268165588379,22.63787269592285,18.50366973876953,18.00753402709961,20.663358688354492,19.556947708129883,22.40065574645996,18.271717071533203,19.07171058654785,17.699329376220703,16.60728645324707,22.76822853088379,18.07987403869629,19.562597274780273,16.580076217651367,17.723905563354492,18.782752990722656,16.766826629638672,17.035694122314453,14.550477981567383,15.909822463989258,21.725950241088867,14.021437644958496,16.57088851928711,14.751067161560059,16.265581130981445,18.477123260498047,15.576584815979004,13.77839469909668,13.41678524017334,12.055333137512207,11.944035530090332,12.586862564086914,16.116687774658203,12.05903148651123,12.735824584960938,11.058605194091797,12.465238571166992,11.472990036010742,12.603072166442871,12.940683364868164,10.552911758422852,11.064351081848145,10.0050048828125,13.028194427490234,9.320206642150879,11.293317794799805,9.100166320800781,11.188865661621094,10.321444511413574,8.852058410644531,7.953047275543213,8.351551055908203,10.091519355773926,9.023316383361816,8.847063064575195,4.459648132324219,6.328312397003174,9.318639755249023,10.142064094543457,12.280318260192871,9.512748718261719,11.642167091369629,12.62742805480957,12.490860939025879,14.754366874694824,11.856547355651855,13.18559741973877,10.610444068908691,12.050107955932617,9.242104530334473,11.011719703674316,7.918011665344238,8.529435157775879,7.557626724243164,9.383630752563477,8.218013763427734,8.96753215789795,6.3852338790893555,8.87501049041748,6.781104564666748,8.036880493164062,5.890002250671387,5.772460460662842,4.508512496948242,5.5410919189453125,7.288284778594971,5.661657810211182],\"yaxis\":\"y\",\"type\":\"scattergl\"}],                        {\"template\":{\"data\":{\"histogram2dcontour\":[{\"type\":\"histogram2dcontour\",\"colorbar\":{\"outlinewidth\":0,\"ticks\":\"\"},\"colorscale\":[[0.0,\"#0d0887\"],[0.1111111111111111,\"#46039f\"],[0.2222222222222222,\"#7201a8\"],[0.3333333333333333,\"#9c179e\"],[0.4444444444444444,\"#bd3786\"],[0.5555555555555556,\"#d8576b\"],[0.6666666666666666,\"#ed7953\"],[0.7777777777777778,\"#fb9f3a\"],[0.8888888888888888,\"#fdca26\"],[1.0,\"#f0f921\"]]}],\"choropleth\":[{\"type\":\"choropleth\",\"colorbar\":{\"outlinewidth\":0,\"ticks\":\"\"}}],\"histogram2d\":[{\"type\":\"histogram2d\",\"colorbar\":{\"outlinewidth\":0,\"ticks\":\"\"},\"colorscale\":[[0.0,\"#0d0887\"],[0.1111111111111111,\"#46039f\"],[0.2222222222222222,\"#7201a8\"],[0.3333333333333333,\"#9c179e\"],[0.4444444444444444,\"#bd3786\"],[0.5555555555555556,\"#d8576b\"],[0.6666666666666666,\"#ed7953\"],[0.7777777777777778,\"#fb9f3a\"],[0.8888888888888888,\"#fdca26\"],[1.0,\"#f0f921\"]]}],\"heatmap\":[{\"type\":\"heatmap\",\"colorbar\":{\"outlinewidth\":0,\"ticks\":\"\"},\"colorscale\":[[0.0,\"#0d0887\"],[0.1111111111111111,\"#46039f\"],[0.2222222222222222,\"#7201a8\"],[0.3333333333333333,\"#9c179e\"],[0.4444444444444444,\"#bd3786\"],[0.5555555555555556,\"#d8576b\"],[0.6666666666666666,\"#ed7953\"],[0.7777777777777778,\"#fb9f3a\"],[0.8888888888888888,\"#fdca26\"],[1.0,\"#f0f921\"]]}],\"heatmapgl\":[{\"type\":\"heatmapgl\",\"colorbar\":{\"outlinewidth\":0,\"ticks\":\"\"},\"colorscale\":[[0.0,\"#0d0887\"],[0.1111111111111111,\"#46039f\"],[0.2222222222222222,\"#7201a8\"],[0.3333333333333333,\"#9c179e\"],[0.4444444444444444,\"#bd3786\"],[0.5555555555555556,\"#d8576b\"],[0.6666666666666666,\"#ed7953\"],[0.7777777777777778,\"#fb9f3a\"],[0.8888888888888888,\"#fdca26\"],[1.0,\"#f0f921\"]]}],\"contourcarpet\":[{\"type\":\"contourcarpet\",\"colorbar\":{\"outlinewidth\":0,\"ticks\":\"\"}}],\"contour\":[{\"type\":\"contour\",\"colorbar\":{\"outlinewidth\":0,\"ticks\":\"\"},\"colorscale\":[[0.0,\"#0d0887\"],[0.1111111111111111,\"#46039f\"],[0.2222222222222222,\"#7201a8\"],[0.3333333333333333,\"#9c179e\"],[0.4444444444444444,\"#bd3786\"],[0.5555555555555556,\"#d8576b\"],[0.6666666666666666,\"#ed7953\"],[0.7777777777777778,\"#fb9f3a\"],[0.8888888888888888,\"#fdca26\"],[1.0,\"#f0f921\"]]}],\"surface\":[{\"type\":\"surface\",\"colorbar\":{\"outlinewidth\":0,\"ticks\":\"\"},\"colorscale\":[[0.0,\"#0d0887\"],[0.1111111111111111,\"#46039f\"],[0.2222222222222222,\"#7201a8\"],[0.3333333333333333,\"#9c179e\"],[0.4444444444444444,\"#bd3786\"],[0.5555555555555556,\"#d8576b\"],[0.6666666666666666,\"#ed7953\"],[0.7777777777777778,\"#fb9f3a\"],[0.8888888888888888,\"#fdca26\"],[1.0,\"#f0f921\"]]}],\"mesh3d\":[{\"type\":\"mesh3d\",\"colorbar\":{\"outlinewidth\":0,\"ticks\":\"\"}}],\"scatter\":[{\"fillpattern\":{\"fillmode\":\"overlay\",\"size\":10,\"solidity\":0.2},\"type\":\"scatter\"}],\"parcoords\":[{\"type\":\"parcoords\",\"line\":{\"colorbar\":{\"outlinewidth\":0,\"ticks\":\"\"}}}],\"scatterpolargl\":[{\"type\":\"scatterpolargl\",\"marker\":{\"colorbar\":{\"outlinewidth\":0,\"ticks\":\"\"}}}],\"bar\":[{\"error_x\":{\"color\":\"#2a3f5f\"},\"error_y\":{\"color\":\"#2a3f5f\"},\"marker\":{\"line\":{\"color\":\"#E5ECF6\",\"width\":0.5},\"pattern\":{\"fillmode\":\"overlay\",\"size\":10,\"solidity\":0.2}},\"type\":\"bar\"}],\"scattergeo\":[{\"type\":\"scattergeo\",\"marker\":{\"colorbar\":{\"outlinewidth\":0,\"ticks\":\"\"}}}],\"scatterpolar\":[{\"type\":\"scatterpolar\",\"marker\":{\"colorbar\":{\"outlinewidth\":0,\"ticks\":\"\"}}}],\"histogram\":[{\"marker\":{\"pattern\":{\"fillmode\":\"overlay\",\"size\":10,\"solidity\":0.2}},\"type\":\"histogram\"}],\"scattergl\":[{\"type\":\"scattergl\",\"marker\":{\"colorbar\":{\"outlinewidth\":0,\"ticks\":\"\"}}}],\"scatter3d\":[{\"type\":\"scatter3d\",\"line\":{\"colorbar\":{\"outlinewidth\":0,\"ticks\":\"\"}},\"marker\":{\"colorbar\":{\"outlinewidth\":0,\"ticks\":\"\"}}}],\"scattermapbox\":[{\"type\":\"scattermapbox\",\"marker\":{\"colorbar\":{\"outlinewidth\":0,\"ticks\":\"\"}}}],\"scatterternary\":[{\"type\":\"scatterternary\",\"marker\":{\"colorbar\":{\"outlinewidth\":0,\"ticks\":\"\"}}}],\"scattercarpet\":[{\"type\":\"scattercarpet\",\"marker\":{\"colorbar\":{\"outlinewidth\":0,\"ticks\":\"\"}}}],\"carpet\":[{\"aaxis\":{\"endlinecolor\":\"#2a3f5f\",\"gridcolor\":\"white\",\"linecolor\":\"white\",\"minorgridcolor\":\"white\",\"startlinecolor\":\"#2a3f5f\"},\"baxis\":{\"endlinecolor\":\"#2a3f5f\",\"gridcolor\":\"white\",\"linecolor\":\"white\",\"minorgridcolor\":\"white\",\"startlinecolor\":\"#2a3f5f\"},\"type\":\"carpet\"}],\"table\":[{\"cells\":{\"fill\":{\"color\":\"#EBF0F8\"},\"line\":{\"color\":\"white\"}},\"header\":{\"fill\":{\"color\":\"#C8D4E3\"},\"line\":{\"color\":\"white\"}},\"type\":\"table\"}],\"barpolar\":[{\"marker\":{\"line\":{\"color\":\"#E5ECF6\",\"width\":0.5},\"pattern\":{\"fillmode\":\"overlay\",\"size\":10,\"solidity\":0.2}},\"type\":\"barpolar\"}],\"pie\":[{\"automargin\":true,\"type\":\"pie\"}]},\"layout\":{\"autotypenumbers\":\"strict\",\"colorway\":[\"#636efa\",\"#EF553B\",\"#00cc96\",\"#ab63fa\",\"#FFA15A\",\"#19d3f3\",\"#FF6692\",\"#B6E880\",\"#FF97FF\",\"#FECB52\"],\"font\":{\"color\":\"#2a3f5f\"},\"hovermode\":\"closest\",\"hoverlabel\":{\"align\":\"left\"},\"paper_bgcolor\":\"white\",\"plot_bgcolor\":\"#E5ECF6\",\"polar\":{\"bgcolor\":\"#E5ECF6\",\"angularaxis\":{\"gridcolor\":\"white\",\"linecolor\":\"white\",\"ticks\":\"\"},\"radialaxis\":{\"gridcolor\":\"white\",\"linecolor\":\"white\",\"ticks\":\"\"}},\"ternary\":{\"bgcolor\":\"#E5ECF6\",\"aaxis\":{\"gridcolor\":\"white\",\"linecolor\":\"white\",\"ticks\":\"\"},\"baxis\":{\"gridcolor\":\"white\",\"linecolor\":\"white\",\"ticks\":\"\"},\"caxis\":{\"gridcolor\":\"white\",\"linecolor\":\"white\",\"ticks\":\"\"}},\"coloraxis\":{\"colorbar\":{\"outlinewidth\":0,\"ticks\":\"\"}},\"colorscale\":{\"sequential\":[[0.0,\"#0d0887\"],[0.1111111111111111,\"#46039f\"],[0.2222222222222222,\"#7201a8\"],[0.3333333333333333,\"#9c179e\"],[0.4444444444444444,\"#bd3786\"],[0.5555555555555556,\"#d8576b\"],[0.6666666666666666,\"#ed7953\"],[0.7777777777777778,\"#fb9f3a\"],[0.8888888888888888,\"#fdca26\"],[1.0,\"#f0f921\"]],\"sequentialminus\":[[0.0,\"#0d0887\"],[0.1111111111111111,\"#46039f\"],[0.2222222222222222,\"#7201a8\"],[0.3333333333333333,\"#9c179e\"],[0.4444444444444444,\"#bd3786\"],[0.5555555555555556,\"#d8576b\"],[0.6666666666666666,\"#ed7953\"],[0.7777777777777778,\"#fb9f3a\"],[0.8888888888888888,\"#fdca26\"],[1.0,\"#f0f921\"]],\"diverging\":[[0,\"#8e0152\"],[0.1,\"#c51b7d\"],[0.2,\"#de77ae\"],[0.3,\"#f1b6da\"],[0.4,\"#fde0ef\"],[0.5,\"#f7f7f7\"],[0.6,\"#e6f5d0\"],[0.7,\"#b8e186\"],[0.8,\"#7fbc41\"],[0.9,\"#4d9221\"],[1,\"#276419\"]]},\"xaxis\":{\"gridcolor\":\"white\",\"linecolor\":\"white\",\"ticks\":\"\",\"title\":{\"standoff\":15},\"zerolinecolor\":\"white\",\"automargin\":true,\"zerolinewidth\":2},\"yaxis\":{\"gridcolor\":\"white\",\"linecolor\":\"white\",\"ticks\":\"\",\"title\":{\"standoff\":15},\"zerolinecolor\":\"white\",\"automargin\":true,\"zerolinewidth\":2},\"scene\":{\"xaxis\":{\"backgroundcolor\":\"#E5ECF6\",\"gridcolor\":\"white\",\"linecolor\":\"white\",\"showbackground\":true,\"ticks\":\"\",\"zerolinecolor\":\"white\",\"gridwidth\":2},\"yaxis\":{\"backgroundcolor\":\"#E5ECF6\",\"gridcolor\":\"white\",\"linecolor\":\"white\",\"showbackground\":true,\"ticks\":\"\",\"zerolinecolor\":\"white\",\"gridwidth\":2},\"zaxis\":{\"backgroundcolor\":\"#E5ECF6\",\"gridcolor\":\"white\",\"linecolor\":\"white\",\"showbackground\":true,\"ticks\":\"\",\"zerolinecolor\":\"white\",\"gridwidth\":2}},\"shapedefaults\":{\"line\":{\"color\":\"#2a3f5f\"}},\"annotationdefaults\":{\"arrowcolor\":\"#2a3f5f\",\"arrowhead\":0,\"arrowwidth\":1},\"geo\":{\"bgcolor\":\"white\",\"landcolor\":\"#E5ECF6\",\"subunitcolor\":\"white\",\"showland\":true,\"showlakes\":true,\"lakecolor\":\"white\"},\"title\":{\"x\":0.05},\"mapbox\":{\"style\":\"light\"}}},\"xaxis\":{\"anchor\":\"y\",\"domain\":[0.0,1.0],\"title\":{\"text\":\"Time\"}},\"yaxis\":{\"anchor\":\"x\",\"domain\":[0.0,1.0],\"title\":{\"text\":\"Temperature\"}},\"legend\":{\"title\":{\"text\":\"Type\"},\"tracegroupgap\":0},\"title\":{\"text\":\"Validation Results\"}},                        {\"responsive\": true}                    ).then(function(){\n",
              "                            \n",
              "var gd = document.getElementById('637a942a-e91f-4ca5-9d3f-75274f794d58');\n",
              "var x = new MutationObserver(function (mutations, observer) {{\n",
              "        var display = window.getComputedStyle(gd).display;\n",
              "        if (!display || display === 'none') {{\n",
              "            console.log([gd, 'removed!']);\n",
              "            Plotly.purge(gd);\n",
              "            observer.disconnect();\n",
              "        }}\n",
              "}});\n",
              "\n",
              "// Listen for the removal of the full notebook cells\n",
              "var notebookContainer = gd.closest('#notebook-container');\n",
              "if (notebookContainer) {{\n",
              "    x.observe(notebookContainer, {childList: true});\n",
              "}}\n",
              "\n",
              "// Listen for the clearing of the current output cell\n",
              "var outputEl = gd.closest('.output');\n",
              "if (outputEl) {{\n",
              "    x.observe(outputEl, {childList: true});\n",
              "}}\n",
              "\n",
              "                        })                };                            </script>        </div>\n",
              "</body>\n",
              "</html>"
            ]
          },
          "metadata": {}
        }
      ]
    },
    {
      "cell_type": "code",
      "source": [
        "fig_test = px.line(df_pred[1000:], title=\"Test Results\",\n",
        "                   labels={'value': 'Temperature', 'index': 'Time'},\n",
        "                   line_shape='linear')\n",
        "fig_test.update_traces(name='Actual', line_color='blue')\n",
        "fig_test.add_scatter(x=df_pred.index[1000:], y=df_pred['predicted'][1000:],\n",
        "                      mode='lines', name='Predicted', line=dict(color='red'))\n",
        "fig.update_layout(width=700, height=500)\n",
        "fig_test.show()"
      ],
      "metadata": {
        "colab": {
          "base_uri": "https://localhost:8080/",
          "height": 542
        },
        "id": "emcWLHPVWqdd",
        "outputId": "82a15233-fc46-4aa4-8127-452791d20b48"
      },
      "execution_count": null,
      "outputs": [
        {
          "output_type": "display_data",
          "data": {
            "text/html": [
              "<html>\n",
              "<head><meta charset=\"utf-8\" /></head>\n",
              "<body>\n",
              "    <div>            <script src=\"https://cdnjs.cloudflare.com/ajax/libs/mathjax/2.7.5/MathJax.js?config=TeX-AMS-MML_SVG\"></script><script type=\"text/javascript\">if (window.MathJax && window.MathJax.Hub && window.MathJax.Hub.Config) {window.MathJax.Hub.Config({SVG: {font: \"STIX-Web\"}});}</script>                <script type=\"text/javascript\">window.PlotlyConfig = {MathJaxConfig: 'local'};</script>\n",
              "        <script charset=\"utf-8\" src=\"https://cdn.plot.ly/plotly-2.35.2.min.js\"></script>                <div id=\"623ab067-2ab3-4d27-a71e-075e64910f26\" class=\"plotly-graph-div\" style=\"height:525px; width:100%;\"></div>            <script type=\"text/javascript\">                                    window.PLOTLYENV=window.PLOTLYENV || {};                                    if (document.getElementById(\"623ab067-2ab3-4d27-a71e-075e64910f26\")) {                    Plotly.newPlot(                        \"623ab067-2ab3-4d27-a71e-075e64910f26\",                        [{\"hovertemplate\":\"variable=actual\\u003cbr\\u003eTime=%{x}\\u003cbr\\u003eTemperature=%{y}\\u003cextra\\u003e\\u003c\\u002fextra\\u003e\",\"legendgroup\":\"actual\",\"line\":{\"color\":\"blue\",\"dash\":\"solid\",\"shape\":\"linear\"},\"marker\":{\"symbol\":\"circle\"},\"mode\":\"lines\",\"name\":\"Actual\",\"orientation\":\"v\",\"showlegend\":true,\"x\":[1010,1011,1012,1013,1014,1015,1016,1017,1018,1019,1020,1021,1022,1023,1024,1025,1026,1027,1028,1029,1030,1031,1032,1033,1034,1035,1036,1037,1038,1039,1040,1041,1042,1043,1044,1045,1046,1047,1048,1049,1050,1051,1052,1053,1054,1055,1056,1057,1058,1059,1060,1061,1062,1063,1064,1065,1066,1067,1068,1069,1070,1071,1072,1073,1074,1075,1076,1077,1078,1079,1080,1081,1082,1083,1084,1085,1086,1087,1088,1089,1090,1091,1092,1093,1094,1095,1096,1097,1098,1099,1100,1101,1102,1103,1104,1105,1106,1107,1108,1109,1110,1111,1112,1113,1114,1115,1116,1117,1118,1119,1120,1121,1122,1123,1124,1125,1126,1127,1128,1129,1130,1131,1132,1133,1134,1135,1136,1137,1138,1139,1140,1141,1142,1143,1144,1145,1146,1147,1148,1149,1150,1151,1152,1153,1154,1155,1156,1157,1158,1159,1160,1161,1162,1163,1164,1165,1166,1167,1168,1169,1170,1171,1172,1173,1174,1175,1176,1177,1178,1179,1180,1181,1182,1183,1184,1185,1186,1187,1188,1189,1190,1191,1192,1193,1194,1195,1196,1197,1198,1199,1200,1201,1202,1203,1204,1205,1206,1207,1208,1209,1210,1211,1212,1213,1214,1215,1216,1217,1218,1219,1220,1221,1222,1223,1224,1225,1226,1227,1228,1229,1230,1231,1232,1233,1234,1235,1236,1237,1238,1239,1240,1241,1242,1243,1244,1245,1246,1247,1248,1249,1250,1251,1252,1253,1254,1255,1256,1257,1258,1259,1260,1261,1262,1263,1264,1265,1266,1267,1268,1269,1270,1271,1272,1273,1274,1275,1276,1277,1278,1279,1280,1281,1282,1283,1284,1285,1286,1287,1288,1289,1290,1291,1292,1293,1294,1295,1296,1297,1298,1299,1300,1301,1302,1303,1304,1305,1306,1307,1308,1309,1310,1311,1312,1313,1314,1315,1316,1317,1318,1319,1320,1321,1322,1323,1324,1325,1326,1327,1328,1329,1330,1331,1332,1333,1334,1335,1336,1337,1338,1339,1340,1341,1342,1343,1344,1345,1346,1347,1348,1349,1350,1351,1352,1353,1354,1355,1356,1357,1358,1359,1360,1361,1362,1363,1364,1365,1366,1367,1368,1369,1370,1371,1372,1373,1374,1375,1376,1377,1378,1379,1380,1381,1382,1383,1384,1385,1386,1387,1388,1389,1390,1391,1392,1393,1394,1395,1396,1397,1398,1399,1400,1401,1402,1403,1404,1405,1406,1407,1408,1409,1410,1411,1412,1413,1414,1415,1416,1417,1418,1419,1420,1421,1422,1423,1424,1425,1426,1427,1428,1429,1430,1431,1432,1433,1434,1435,1436,1437,1438,1439,1440,1441,1442,1443,1444,1445,1446,1447,1448,1449,1450,1451,1452,1453,1454,1455,1456,1457,1458,1459,1460],\"xaxis\":\"x\",\"y\":[18.9,20.6,17.2,18.3,18.3,17.8,21.1,16.7,16.1,20.6,16.7,19.4,22.2,16.1,16.1,15.6,14.4,14.4,16.7,12.8,15.6,15.0,16.7,15.6,12.8,11.1,13.3,13.9,14.4,15.0,16.7,14.4,12.8,13.3,11.1,7.8,6.7,7.2,7.2,8.3,9.4,10.6,7.2,11.1,11.1,11.1,9.4,12.8,11.7,13.9,15.0,14.4,12.8,4.4,2.8,4.4,5.6,10.0,8.3,12.8,11.7,14.4,14.4,16.1,18.9,14.4,11.1,10.0,12.8,12.2,10.0,8.9,9.4,11.1,12.8,12.8,10.6,12.2,7.2,7.8,5.6,9.4,6.7,6.1,3.3,3.3,5.6,5.6,5.0,10.6,12.2,12.2,7.8,7.8,10.0,7.8,9.4,11.1,9.4,6.1,7.8,11.7,13.3,13.9,10.0,10.0,7.2,9.4,12.2,14.4,17.2,16.1,11.1,12.2,12.2,8.3,7.2,9.4,11.1,10.0,10.6,13.3,14.4,12.2,15.0,13.3,12.8,12.8,16.7,15.6,14.4,12.2,15.0,16.1,12.2,10.6,11.1,12.2,11.7,12.8,11.1,10.0,11.7,10.0,12.2,11.1,11.1,10.6,12.8,13.3,15.0,16.7,17.2,14.4,13.3,14.4,17.8,17.2,13.9,10.6,13.9,13.3,15.6,15.6,13.9,13.3,11.7,11.1,12.8,14.4,20.6,18.3,15.6,15.6,17.8,12.8,12.8,13.3,11.1,12.8,16.7,13.9,14.4,17.2,17.2,13.9,11.7,13.3,11.7,11.7,13.9,17.8,18.9,18.9,21.1,22.8,17.2,15.6,12.2,12.2,13.3,15.6,25.0,15.6,16.1,17.2,18.3,18.3,20.6,17.2,14.4,16.7,20.6,23.9,26.7,19.4,13.9,15.6,12.2,17.8,20.0,15.6,19.4,25.6,21.7,23.3,25.6,16.7,16.1,17.8,15.6,21.7,24.4,27.8,26.1,22.8,25.0,16.1,17.8,20.0,22.8,26.7,29.4,31.1,30.6,28.9,25.6,24.4,20.0,23.9,27.8,30.0,22.8,25.0,24.4,23.9,25.0,25.6,25.0,26.1,25.6,30.6,31.7,33.3,28.3,28.9,30.6,32.2,33.9,33.3,33.3,32.8,29.4,27.2,30.0,28.9,21.1,22.2,26.1,25.6,27.8,26.1,26.1,27.8,33.3,35.0,26.7,23.9,23.9,26.1,22.8,21.1,22.2,23.3,27.8,32.2,34.4,34.4,33.3,30.6,28.3,26.1,23.3,25.0,28.3,25.0,28.3,28.9,30.0,28.3,28.3,18.3,21.7,25.0,27.2,30.0,31.7,22.8,22.2,26.7,27.8,23.9,25.6,28.3,29.4,23.3,22.2,20.0,18.9,19.4,19.4,18.3,18.3,20.6,16.1,21.1,22.8,24.4,25.0,27.2,26.7,20.6,16.7,17.8,20.0,18.3,19.4,21.1,22.8,18.3,18.9,20.6,22.2,15.6,18.3,17.8,21.1,21.7,18.3,21.1,15.6,19.4,22.8,23.3,18.3,16.1,18.9,19.4,21.1,17.8,18.3,16.7,15.0,21.1,20.0,19.4,15.0,17.2,17.8,16.1,16.1,12.8,15.0,19.4,12.2,16.1,13.9,15.0,17.2,15.6,12.2,11.1,10.6,10.0,11.7,15.6,12.2,11.1,10.0,11.1,11.1,11.1,13.3,9.4,8.9,8.9,13.3,8.9,8.9,8.3,8.9,10.0,6.7,6.7,7.2,9.4,9.4,7.2,1.7,5.6,10.0,10.6,15.6,10.6,10.0,12.8,11.1,15.6,12.2,11.7,9.4,8.9,7.8,7.8,6.7,6.1,6.7,8.9,8.3,7.8,5.6,7.8,5.0,5.6,5.0,4.4,4.4,5.0,7.2,5.6,5.6],\"yaxis\":\"y\",\"type\":\"scatter\"},{\"hovertemplate\":\"variable=predicted\\u003cbr\\u003eTime=%{x}\\u003cbr\\u003eTemperature=%{y}\\u003cextra\\u003e\\u003c\\u002fextra\\u003e\",\"legendgroup\":\"predicted\",\"line\":{\"color\":\"blue\",\"dash\":\"solid\",\"shape\":\"linear\"},\"marker\":{\"symbol\":\"circle\"},\"mode\":\"lines\",\"name\":\"Actual\",\"orientation\":\"v\",\"showlegend\":true,\"x\":[1010,1011,1012,1013,1014,1015,1016,1017,1018,1019,1020,1021,1022,1023,1024,1025,1026,1027,1028,1029,1030,1031,1032,1033,1034,1035,1036,1037,1038,1039,1040,1041,1042,1043,1044,1045,1046,1047,1048,1049,1050,1051,1052,1053,1054,1055,1056,1057,1058,1059,1060,1061,1062,1063,1064,1065,1066,1067,1068,1069,1070,1071,1072,1073,1074,1075,1076,1077,1078,1079,1080,1081,1082,1083,1084,1085,1086,1087,1088,1089,1090,1091,1092,1093,1094,1095,1096,1097,1098,1099,1100,1101,1102,1103,1104,1105,1106,1107,1108,1109,1110,1111,1112,1113,1114,1115,1116,1117,1118,1119,1120,1121,1122,1123,1124,1125,1126,1127,1128,1129,1130,1131,1132,1133,1134,1135,1136,1137,1138,1139,1140,1141,1142,1143,1144,1145,1146,1147,1148,1149,1150,1151,1152,1153,1154,1155,1156,1157,1158,1159,1160,1161,1162,1163,1164,1165,1166,1167,1168,1169,1170,1171,1172,1173,1174,1175,1176,1177,1178,1179,1180,1181,1182,1183,1184,1185,1186,1187,1188,1189,1190,1191,1192,1193,1194,1195,1196,1197,1198,1199,1200,1201,1202,1203,1204,1205,1206,1207,1208,1209,1210,1211,1212,1213,1214,1215,1216,1217,1218,1219,1220,1221,1222,1223,1224,1225,1226,1227,1228,1229,1230,1231,1232,1233,1234,1235,1236,1237,1238,1239,1240,1241,1242,1243,1244,1245,1246,1247,1248,1249,1250,1251,1252,1253,1254,1255,1256,1257,1258,1259,1260,1261,1262,1263,1264,1265,1266,1267,1268,1269,1270,1271,1272,1273,1274,1275,1276,1277,1278,1279,1280,1281,1282,1283,1284,1285,1286,1287,1288,1289,1290,1291,1292,1293,1294,1295,1296,1297,1298,1299,1300,1301,1302,1303,1304,1305,1306,1307,1308,1309,1310,1311,1312,1313,1314,1315,1316,1317,1318,1319,1320,1321,1322,1323,1324,1325,1326,1327,1328,1329,1330,1331,1332,1333,1334,1335,1336,1337,1338,1339,1340,1341,1342,1343,1344,1345,1346,1347,1348,1349,1350,1351,1352,1353,1354,1355,1356,1357,1358,1359,1360,1361,1362,1363,1364,1365,1366,1367,1368,1369,1370,1371,1372,1373,1374,1375,1376,1377,1378,1379,1380,1381,1382,1383,1384,1385,1386,1387,1388,1389,1390,1391,1392,1393,1394,1395,1396,1397,1398,1399,1400,1401,1402,1403,1404,1405,1406,1407,1408,1409,1410,1411,1412,1413,1414,1415,1416,1417,1418,1419,1420,1421,1422,1423,1424,1425,1426,1427,1428,1429,1430,1431,1432,1433,1434,1435,1436,1437,1438,1439,1440,1441,1442,1443,1444,1445,1446,1447,1448,1449,1450,1451,1452,1453,1454,1455,1456,1457,1458,1459,1460],\"xaxis\":\"x\",\"y\":[24.81550407409668,18.871185302734375,21.46322250366211,19.250019073486328,19.744529724121094,19.485092163085938,19.06349754333496,22.91447639465332,17.417232513427734,17.594898223876953,22.94965362548828,16.528642654418945,19.874189376831055,23.868024826049805,17.204668045043945,17.845348358154297,17.131624221801758,16.2132511138916,16.186487197875977,17.860111236572266,14.331893920898438,16.310930252075195,15.070305824279785,17.344308853149414,15.457439422607422,13.979503631591797,12.89399528503418,14.201744079589844,14.286131858825684,15.062511444091797,14.85688304901123,16.9073486328125,14.312020301818848,13.907686233520508,13.958800315856934,12.388535499572754,9.738176345825195,8.358905792236328,9.150078773498535,8.698677062988281,9.35982608795166,9.772039413452148,10.703370094299316,7.788113594055176,10.75474739074707,10.695246696472168,11.899824142456055,9.331998825073242,12.435463905334473,11.425739288330078,13.841516494750977,14.33466625213623,14.524996757507324,13.13503360748291,7.949841022491455,3.8641014099121094,4.429218292236328,6.97366189956665,9.272553443908691,7.314093589782715,10.831950187683105,10.529072761535645,13.498905181884766,13.258028030395508,15.71258544921875,19.486677169799805,13.926464080810547,13.13946533203125,11.97376537322998,13.692129135131836,12.699638366699219,12.071590423583984,10.116625785827637,11.701955795288086,11.66197395324707,12.735848426818848,12.364072799682617,11.44810962677002,12.422229766845703,8.817946434020996,10.816458702087402,7.644369602203369,10.993148803710938,8.068540573120117,8.873268127441406,5.160130500793457,4.5917510986328125,6.7368268966674805,6.806144714355469,4.897907733917236,8.586393356323242,10.399282455444336,11.252654075622559,7.967990398406982,9.934161186218262,10.675481796264648,10.104375839233398,10.295008659362793,11.101885795593262,10.906052589416504,7.252585411071777,9.753804206848145,11.208809852600098,12.217215538024902,12.46914291381836,10.315254211425781,11.47014331817627,8.585183143615723,11.502096176147461,12.221519470214844,14.193032264709473,15.521781921386719,15.04686164855957,11.968097686767578,13.108072280883789,12.55280876159668,10.809454917907715,8.876358032226562,10.637451171875,11.580619812011719,10.253046035766602,11.20633316040039,12.493488311767578,13.715642929077148,12.038511276245117,14.219780921936035,12.767740249633789,13.723682403564453,13.218534469604492,17.77116584777832,14.957868576049805,14.773660659790039,13.293350219726562,15.469830513000488,16.3866024017334,13.376938819885254,12.535662651062012,12.638961791992188,13.282026290893555,12.49537181854248,13.23977279663086,11.563337326049805,12.087138175964355,12.226243019104004,11.57490062713623,12.431764602661133,11.260828971862793,12.376534461975098,10.812724113464355,13.239500045776367,12.959820747375488,14.819473266601562,16.23076629638672,16.60228157043457,14.192550659179688,14.112984657287598,14.688765525817871,19.24262809753418,16.089059829711914,14.439441680908203,12.838052749633789,14.598739624023438,13.416669845581055,16.470319747924805,15.213308334350586,14.834123611450195,14.359173774719238,13.022655487060547,12.685301780700684,13.537569999694824,15.124134063720703,21.749576568603516,15.890047073364258,15.211893081665039,16.093151092529297,18.34564208984375,13.81535816192627,14.465764999389648,14.390544891357422,13.315133094787598,14.057324409484863,18.313369750976562,13.941783905029297,14.956430435180664,17.883338928222656,16.92169952392578,14.113508224487305,13.344070434570312,13.944867134094238,12.72905158996582,13.24992847442627,14.21495246887207,19.8349552154541,18.106971740722656,17.30129051208496,21.22154426574707,22.000991821289062,16.03213882446289,16.280752182006836,14.534043312072754,15.015046119689941,15.04133415222168,16.899118423461914,23.993635177612305,15.64090347290039,16.910390853881836,19.104217529296875,18.869340896606445,18.25153923034668,21.26612663269043,17.196788787841797,16.231128692626953,17.603958129882812,21.96123504638672,24.25780487060547,25.5363712310791,18.764949798583984,17.356521606445312,17.818359375,14.901636123657227,17.959976196289062,20.929990768432617,16.92172622680664,20.028879165649414,25.242938995361328,17.81446647644043,22.850811004638672,24.9633846282959,18.792293548583984,18.898073196411133,19.164987564086914,18.181167602539062,22.28852081298828,24.722707748413086,26.453508377075195,22.377971649169922,21.01304054260254,25.27355194091797,20.870710372924805,20.21889305114746,21.055639266967773,24.005714416503906,26.51321029663086,27.102632522583008,27.278244018554688,27.23285675048828,26.955224990844727,23.928115844726562,24.813751220703125,22.639892578125,25.03181266784668,26.85486602783203,27.356843948364258,23.118452072143555,25.194454193115234,23.93189239501953,25.610164642333984,26.162900924682617,26.642732620239258,25.624874114990234,26.744571685791016,25.803529739379883,27.18040657043457,27.414213180541992,27.492469787597656,25.214330673217773,26.95353889465332,27.401884078979492,27.48451805114746,27.525535583496094,27.520158767700195,27.52649688720703,27.51828956604004,27.21627426147461,26.818147659301758,27.374176025390625,27.216489791870117,23.087732315063477,23.88103485107422,26.408435821533203,26.342613220214844,27.168615341186523,24.75910758972168,26.37140655517578,27.147525787353516,27.47093391418457,27.519987106323242,23.527193069458008,24.00111198425293,25.36210823059082,26.918642044067383,23.262481689453125,22.157854080200195,23.47932243347168,25.24791145324707,27.005590438842773,27.386512756347656,27.48832893371582,27.5132999420166,27.50079917907715,27.323148727416992,26.95508575439453,25.937278747558594,23.662090301513672,26.02996253967285,27.176776885986328,23.70796775817871,26.360103607177734,27.109195709228516,27.381528854370117,26.662616729736328,27.137327194213867,23.23053741455078,23.030519485473633,25.5317440032959,27.028797149658203,27.36297607421875,27.455890655517578,23.138933181762695,23.397626876831055,26.367795944213867,27.029260635375977,23.202009201049805,25.665557861328125,27.045774459838867,27.332090377807617,23.11491584777832,22.995948791503906,22.1685791015625,21.523014068603516,21.45110511779785,21.292295455932617,20.16429328918457,19.475542068481445,21.754085540771484,17.221847534179688,21.651552200317383,23.299991607666016,24.557308197021484,23.91239356994629,26.062829971313477,24.705114364624023,20.9252872467041,19.849666595458984,20.024282455444336,20.612272262573242,19.87157440185547,20.163606643676758,21.693626403808594,23.575002670288086,18.120180130004883,19.345062255859375,21.719575881958008,23.08770179748535,17.878446578979492,19.37858772277832,18.86669921875,22.595590591430664,21.742361068725586,18.44381332397461,22.55179214477539,17.146991729736328,19.68507194519043,24.33268165588379,22.63787269592285,18.50366973876953,18.00753402709961,20.663358688354492,19.556947708129883,22.40065574645996,18.271717071533203,19.07171058654785,17.699329376220703,16.60728645324707,22.76822853088379,18.07987403869629,19.562597274780273,16.580076217651367,17.723905563354492,18.782752990722656,16.766826629638672,17.035694122314453,14.550477981567383,15.909822463989258,21.725950241088867,14.021437644958496,16.57088851928711,14.751067161560059,16.265581130981445,18.477123260498047,15.576584815979004,13.77839469909668,13.41678524017334,12.055333137512207,11.944035530090332,12.586862564086914,16.116687774658203,12.05903148651123,12.735824584960938,11.058605194091797,12.465238571166992,11.472990036010742,12.603072166442871,12.940683364868164,10.552911758422852,11.064351081848145,10.0050048828125,13.028194427490234,9.320206642150879,11.293317794799805,9.100166320800781,11.188865661621094,10.321444511413574,8.852058410644531,7.953047275543213,8.351551055908203,10.091519355773926,9.023316383361816,8.847063064575195,4.459648132324219,6.328312397003174,9.318639755249023,10.142064094543457,12.280318260192871,9.512748718261719,11.642167091369629,12.62742805480957,12.490860939025879,14.754366874694824,11.856547355651855,13.18559741973877,10.610444068908691,12.050107955932617,9.242104530334473,11.011719703674316,7.918011665344238,8.529435157775879,7.557626724243164,9.383630752563477,8.218013763427734,8.96753215789795,6.3852338790893555,8.87501049041748,6.781104564666748,8.036880493164062,5.890002250671387,5.772460460662842,4.508512496948242,5.5410919189453125,7.288284778594971,5.661657810211182],\"yaxis\":\"y\",\"type\":\"scatter\"},{\"line\":{\"color\":\"red\"},\"mode\":\"lines\",\"name\":\"Predicted\",\"x\":[1010,1011,1012,1013,1014,1015,1016,1017,1018,1019,1020,1021,1022,1023,1024,1025,1026,1027,1028,1029,1030,1031,1032,1033,1034,1035,1036,1037,1038,1039,1040,1041,1042,1043,1044,1045,1046,1047,1048,1049,1050,1051,1052,1053,1054,1055,1056,1057,1058,1059,1060,1061,1062,1063,1064,1065,1066,1067,1068,1069,1070,1071,1072,1073,1074,1075,1076,1077,1078,1079,1080,1081,1082,1083,1084,1085,1086,1087,1088,1089,1090,1091,1092,1093,1094,1095,1096,1097,1098,1099,1100,1101,1102,1103,1104,1105,1106,1107,1108,1109,1110,1111,1112,1113,1114,1115,1116,1117,1118,1119,1120,1121,1122,1123,1124,1125,1126,1127,1128,1129,1130,1131,1132,1133,1134,1135,1136,1137,1138,1139,1140,1141,1142,1143,1144,1145,1146,1147,1148,1149,1150,1151,1152,1153,1154,1155,1156,1157,1158,1159,1160,1161,1162,1163,1164,1165,1166,1167,1168,1169,1170,1171,1172,1173,1174,1175,1176,1177,1178,1179,1180,1181,1182,1183,1184,1185,1186,1187,1188,1189,1190,1191,1192,1193,1194,1195,1196,1197,1198,1199,1200,1201,1202,1203,1204,1205,1206,1207,1208,1209,1210,1211,1212,1213,1214,1215,1216,1217,1218,1219,1220,1221,1222,1223,1224,1225,1226,1227,1228,1229,1230,1231,1232,1233,1234,1235,1236,1237,1238,1239,1240,1241,1242,1243,1244,1245,1246,1247,1248,1249,1250,1251,1252,1253,1254,1255,1256,1257,1258,1259,1260,1261,1262,1263,1264,1265,1266,1267,1268,1269,1270,1271,1272,1273,1274,1275,1276,1277,1278,1279,1280,1281,1282,1283,1284,1285,1286,1287,1288,1289,1290,1291,1292,1293,1294,1295,1296,1297,1298,1299,1300,1301,1302,1303,1304,1305,1306,1307,1308,1309,1310,1311,1312,1313,1314,1315,1316,1317,1318,1319,1320,1321,1322,1323,1324,1325,1326,1327,1328,1329,1330,1331,1332,1333,1334,1335,1336,1337,1338,1339,1340,1341,1342,1343,1344,1345,1346,1347,1348,1349,1350,1351,1352,1353,1354,1355,1356,1357,1358,1359,1360,1361,1362,1363,1364,1365,1366,1367,1368,1369,1370,1371,1372,1373,1374,1375,1376,1377,1378,1379,1380,1381,1382,1383,1384,1385,1386,1387,1388,1389,1390,1391,1392,1393,1394,1395,1396,1397,1398,1399,1400,1401,1402,1403,1404,1405,1406,1407,1408,1409,1410,1411,1412,1413,1414,1415,1416,1417,1418,1419,1420,1421,1422,1423,1424,1425,1426,1427,1428,1429,1430,1431,1432,1433,1434,1435,1436,1437,1438,1439,1440,1441,1442,1443,1444,1445,1446,1447,1448,1449,1450,1451,1452,1453,1454,1455,1456,1457,1458,1459,1460],\"y\":[24.81550407409668,18.871185302734375,21.46322250366211,19.250019073486328,19.744529724121094,19.485092163085938,19.06349754333496,22.91447639465332,17.417232513427734,17.594898223876953,22.94965362548828,16.528642654418945,19.874189376831055,23.868024826049805,17.204668045043945,17.845348358154297,17.131624221801758,16.2132511138916,16.186487197875977,17.860111236572266,14.331893920898438,16.310930252075195,15.070305824279785,17.344308853149414,15.457439422607422,13.979503631591797,12.89399528503418,14.201744079589844,14.286131858825684,15.062511444091797,14.85688304901123,16.9073486328125,14.312020301818848,13.907686233520508,13.958800315856934,12.388535499572754,9.738176345825195,8.358905792236328,9.150078773498535,8.698677062988281,9.35982608795166,9.772039413452148,10.703370094299316,7.788113594055176,10.75474739074707,10.695246696472168,11.899824142456055,9.331998825073242,12.435463905334473,11.425739288330078,13.841516494750977,14.33466625213623,14.524996757507324,13.13503360748291,7.949841022491455,3.8641014099121094,4.429218292236328,6.97366189956665,9.272553443908691,7.314093589782715,10.831950187683105,10.529072761535645,13.498905181884766,13.258028030395508,15.71258544921875,19.486677169799805,13.926464080810547,13.13946533203125,11.97376537322998,13.692129135131836,12.699638366699219,12.071590423583984,10.116625785827637,11.701955795288086,11.66197395324707,12.735848426818848,12.364072799682617,11.44810962677002,12.422229766845703,8.817946434020996,10.816458702087402,7.644369602203369,10.993148803710938,8.068540573120117,8.873268127441406,5.160130500793457,4.5917510986328125,6.7368268966674805,6.806144714355469,4.897907733917236,8.586393356323242,10.399282455444336,11.252654075622559,7.967990398406982,9.934161186218262,10.675481796264648,10.104375839233398,10.295008659362793,11.101885795593262,10.906052589416504,7.252585411071777,9.753804206848145,11.208809852600098,12.217215538024902,12.46914291381836,10.315254211425781,11.47014331817627,8.585183143615723,11.502096176147461,12.221519470214844,14.193032264709473,15.521781921386719,15.04686164855957,11.968097686767578,13.108072280883789,12.55280876159668,10.809454917907715,8.876358032226562,10.637451171875,11.580619812011719,10.253046035766602,11.20633316040039,12.493488311767578,13.715642929077148,12.038511276245117,14.219780921936035,12.767740249633789,13.723682403564453,13.218534469604492,17.77116584777832,14.957868576049805,14.773660659790039,13.293350219726562,15.469830513000488,16.3866024017334,13.376938819885254,12.535662651062012,12.638961791992188,13.282026290893555,12.49537181854248,13.23977279663086,11.563337326049805,12.087138175964355,12.226243019104004,11.57490062713623,12.431764602661133,11.260828971862793,12.376534461975098,10.812724113464355,13.239500045776367,12.959820747375488,14.819473266601562,16.23076629638672,16.60228157043457,14.192550659179688,14.112984657287598,14.688765525817871,19.24262809753418,16.089059829711914,14.439441680908203,12.838052749633789,14.598739624023438,13.416669845581055,16.470319747924805,15.213308334350586,14.834123611450195,14.359173774719238,13.022655487060547,12.685301780700684,13.537569999694824,15.124134063720703,21.749576568603516,15.890047073364258,15.211893081665039,16.093151092529297,18.34564208984375,13.81535816192627,14.465764999389648,14.390544891357422,13.315133094787598,14.057324409484863,18.313369750976562,13.941783905029297,14.956430435180664,17.883338928222656,16.92169952392578,14.113508224487305,13.344070434570312,13.944867134094238,12.72905158996582,13.24992847442627,14.21495246887207,19.8349552154541,18.106971740722656,17.30129051208496,21.22154426574707,22.000991821289062,16.03213882446289,16.280752182006836,14.534043312072754,15.015046119689941,15.04133415222168,16.899118423461914,23.993635177612305,15.64090347290039,16.910390853881836,19.104217529296875,18.869340896606445,18.25153923034668,21.26612663269043,17.196788787841797,16.231128692626953,17.603958129882812,21.96123504638672,24.25780487060547,25.5363712310791,18.764949798583984,17.356521606445312,17.818359375,14.901636123657227,17.959976196289062,20.929990768432617,16.92172622680664,20.028879165649414,25.242938995361328,17.81446647644043,22.850811004638672,24.9633846282959,18.792293548583984,18.898073196411133,19.164987564086914,18.181167602539062,22.28852081298828,24.722707748413086,26.453508377075195,22.377971649169922,21.01304054260254,25.27355194091797,20.870710372924805,20.21889305114746,21.055639266967773,24.005714416503906,26.51321029663086,27.102632522583008,27.278244018554688,27.23285675048828,26.955224990844727,23.928115844726562,24.813751220703125,22.639892578125,25.03181266784668,26.85486602783203,27.356843948364258,23.118452072143555,25.194454193115234,23.93189239501953,25.610164642333984,26.162900924682617,26.642732620239258,25.624874114990234,26.744571685791016,25.803529739379883,27.18040657043457,27.414213180541992,27.492469787597656,25.214330673217773,26.95353889465332,27.401884078979492,27.48451805114746,27.525535583496094,27.520158767700195,27.52649688720703,27.51828956604004,27.21627426147461,26.818147659301758,27.374176025390625,27.216489791870117,23.087732315063477,23.88103485107422,26.408435821533203,26.342613220214844,27.168615341186523,24.75910758972168,26.37140655517578,27.147525787353516,27.47093391418457,27.519987106323242,23.527193069458008,24.00111198425293,25.36210823059082,26.918642044067383,23.262481689453125,22.157854080200195,23.47932243347168,25.24791145324707,27.005590438842773,27.386512756347656,27.48832893371582,27.5132999420166,27.50079917907715,27.323148727416992,26.95508575439453,25.937278747558594,23.662090301513672,26.02996253967285,27.176776885986328,23.70796775817871,26.360103607177734,27.109195709228516,27.381528854370117,26.662616729736328,27.137327194213867,23.23053741455078,23.030519485473633,25.5317440032959,27.028797149658203,27.36297607421875,27.455890655517578,23.138933181762695,23.397626876831055,26.367795944213867,27.029260635375977,23.202009201049805,25.665557861328125,27.045774459838867,27.332090377807617,23.11491584777832,22.995948791503906,22.1685791015625,21.523014068603516,21.45110511779785,21.292295455932617,20.16429328918457,19.475542068481445,21.754085540771484,17.221847534179688,21.651552200317383,23.299991607666016,24.557308197021484,23.91239356994629,26.062829971313477,24.705114364624023,20.9252872467041,19.849666595458984,20.024282455444336,20.612272262573242,19.87157440185547,20.163606643676758,21.693626403808594,23.575002670288086,18.120180130004883,19.345062255859375,21.719575881958008,23.08770179748535,17.878446578979492,19.37858772277832,18.86669921875,22.595590591430664,21.742361068725586,18.44381332397461,22.55179214477539,17.146991729736328,19.68507194519043,24.33268165588379,22.63787269592285,18.50366973876953,18.00753402709961,20.663358688354492,19.556947708129883,22.40065574645996,18.271717071533203,19.07171058654785,17.699329376220703,16.60728645324707,22.76822853088379,18.07987403869629,19.562597274780273,16.580076217651367,17.723905563354492,18.782752990722656,16.766826629638672,17.035694122314453,14.550477981567383,15.909822463989258,21.725950241088867,14.021437644958496,16.57088851928711,14.751067161560059,16.265581130981445,18.477123260498047,15.576584815979004,13.77839469909668,13.41678524017334,12.055333137512207,11.944035530090332,12.586862564086914,16.116687774658203,12.05903148651123,12.735824584960938,11.058605194091797,12.465238571166992,11.472990036010742,12.603072166442871,12.940683364868164,10.552911758422852,11.064351081848145,10.0050048828125,13.028194427490234,9.320206642150879,11.293317794799805,9.100166320800781,11.188865661621094,10.321444511413574,8.852058410644531,7.953047275543213,8.351551055908203,10.091519355773926,9.023316383361816,8.847063064575195,4.459648132324219,6.328312397003174,9.318639755249023,10.142064094543457,12.280318260192871,9.512748718261719,11.642167091369629,12.62742805480957,12.490860939025879,14.754366874694824,11.856547355651855,13.18559741973877,10.610444068908691,12.050107955932617,9.242104530334473,11.011719703674316,7.918011665344238,8.529435157775879,7.557626724243164,9.383630752563477,8.218013763427734,8.96753215789795,6.3852338790893555,8.87501049041748,6.781104564666748,8.036880493164062,5.890002250671387,5.772460460662842,4.508512496948242,5.5410919189453125,7.288284778594971,5.661657810211182],\"type\":\"scatter\"}],                        {\"template\":{\"data\":{\"histogram2dcontour\":[{\"type\":\"histogram2dcontour\",\"colorbar\":{\"outlinewidth\":0,\"ticks\":\"\"},\"colorscale\":[[0.0,\"#0d0887\"],[0.1111111111111111,\"#46039f\"],[0.2222222222222222,\"#7201a8\"],[0.3333333333333333,\"#9c179e\"],[0.4444444444444444,\"#bd3786\"],[0.5555555555555556,\"#d8576b\"],[0.6666666666666666,\"#ed7953\"],[0.7777777777777778,\"#fb9f3a\"],[0.8888888888888888,\"#fdca26\"],[1.0,\"#f0f921\"]]}],\"choropleth\":[{\"type\":\"choropleth\",\"colorbar\":{\"outlinewidth\":0,\"ticks\":\"\"}}],\"histogram2d\":[{\"type\":\"histogram2d\",\"colorbar\":{\"outlinewidth\":0,\"ticks\":\"\"},\"colorscale\":[[0.0,\"#0d0887\"],[0.1111111111111111,\"#46039f\"],[0.2222222222222222,\"#7201a8\"],[0.3333333333333333,\"#9c179e\"],[0.4444444444444444,\"#bd3786\"],[0.5555555555555556,\"#d8576b\"],[0.6666666666666666,\"#ed7953\"],[0.7777777777777778,\"#fb9f3a\"],[0.8888888888888888,\"#fdca26\"],[1.0,\"#f0f921\"]]}],\"heatmap\":[{\"type\":\"heatmap\",\"colorbar\":{\"outlinewidth\":0,\"ticks\":\"\"},\"colorscale\":[[0.0,\"#0d0887\"],[0.1111111111111111,\"#46039f\"],[0.2222222222222222,\"#7201a8\"],[0.3333333333333333,\"#9c179e\"],[0.4444444444444444,\"#bd3786\"],[0.5555555555555556,\"#d8576b\"],[0.6666666666666666,\"#ed7953\"],[0.7777777777777778,\"#fb9f3a\"],[0.8888888888888888,\"#fdca26\"],[1.0,\"#f0f921\"]]}],\"heatmapgl\":[{\"type\":\"heatmapgl\",\"colorbar\":{\"outlinewidth\":0,\"ticks\":\"\"},\"colorscale\":[[0.0,\"#0d0887\"],[0.1111111111111111,\"#46039f\"],[0.2222222222222222,\"#7201a8\"],[0.3333333333333333,\"#9c179e\"],[0.4444444444444444,\"#bd3786\"],[0.5555555555555556,\"#d8576b\"],[0.6666666666666666,\"#ed7953\"],[0.7777777777777778,\"#fb9f3a\"],[0.8888888888888888,\"#fdca26\"],[1.0,\"#f0f921\"]]}],\"contourcarpet\":[{\"type\":\"contourcarpet\",\"colorbar\":{\"outlinewidth\":0,\"ticks\":\"\"}}],\"contour\":[{\"type\":\"contour\",\"colorbar\":{\"outlinewidth\":0,\"ticks\":\"\"},\"colorscale\":[[0.0,\"#0d0887\"],[0.1111111111111111,\"#46039f\"],[0.2222222222222222,\"#7201a8\"],[0.3333333333333333,\"#9c179e\"],[0.4444444444444444,\"#bd3786\"],[0.5555555555555556,\"#d8576b\"],[0.6666666666666666,\"#ed7953\"],[0.7777777777777778,\"#fb9f3a\"],[0.8888888888888888,\"#fdca26\"],[1.0,\"#f0f921\"]]}],\"surface\":[{\"type\":\"surface\",\"colorbar\":{\"outlinewidth\":0,\"ticks\":\"\"},\"colorscale\":[[0.0,\"#0d0887\"],[0.1111111111111111,\"#46039f\"],[0.2222222222222222,\"#7201a8\"],[0.3333333333333333,\"#9c179e\"],[0.4444444444444444,\"#bd3786\"],[0.5555555555555556,\"#d8576b\"],[0.6666666666666666,\"#ed7953\"],[0.7777777777777778,\"#fb9f3a\"],[0.8888888888888888,\"#fdca26\"],[1.0,\"#f0f921\"]]}],\"mesh3d\":[{\"type\":\"mesh3d\",\"colorbar\":{\"outlinewidth\":0,\"ticks\":\"\"}}],\"scatter\":[{\"fillpattern\":{\"fillmode\":\"overlay\",\"size\":10,\"solidity\":0.2},\"type\":\"scatter\"}],\"parcoords\":[{\"type\":\"parcoords\",\"line\":{\"colorbar\":{\"outlinewidth\":0,\"ticks\":\"\"}}}],\"scatterpolargl\":[{\"type\":\"scatterpolargl\",\"marker\":{\"colorbar\":{\"outlinewidth\":0,\"ticks\":\"\"}}}],\"bar\":[{\"error_x\":{\"color\":\"#2a3f5f\"},\"error_y\":{\"color\":\"#2a3f5f\"},\"marker\":{\"line\":{\"color\":\"#E5ECF6\",\"width\":0.5},\"pattern\":{\"fillmode\":\"overlay\",\"size\":10,\"solidity\":0.2}},\"type\":\"bar\"}],\"scattergeo\":[{\"type\":\"scattergeo\",\"marker\":{\"colorbar\":{\"outlinewidth\":0,\"ticks\":\"\"}}}],\"scatterpolar\":[{\"type\":\"scatterpolar\",\"marker\":{\"colorbar\":{\"outlinewidth\":0,\"ticks\":\"\"}}}],\"histogram\":[{\"marker\":{\"pattern\":{\"fillmode\":\"overlay\",\"size\":10,\"solidity\":0.2}},\"type\":\"histogram\"}],\"scattergl\":[{\"type\":\"scattergl\",\"marker\":{\"colorbar\":{\"outlinewidth\":0,\"ticks\":\"\"}}}],\"scatter3d\":[{\"type\":\"scatter3d\",\"line\":{\"colorbar\":{\"outlinewidth\":0,\"ticks\":\"\"}},\"marker\":{\"colorbar\":{\"outlinewidth\":0,\"ticks\":\"\"}}}],\"scattermapbox\":[{\"type\":\"scattermapbox\",\"marker\":{\"colorbar\":{\"outlinewidth\":0,\"ticks\":\"\"}}}],\"scatterternary\":[{\"type\":\"scatterternary\",\"marker\":{\"colorbar\":{\"outlinewidth\":0,\"ticks\":\"\"}}}],\"scattercarpet\":[{\"type\":\"scattercarpet\",\"marker\":{\"colorbar\":{\"outlinewidth\":0,\"ticks\":\"\"}}}],\"carpet\":[{\"aaxis\":{\"endlinecolor\":\"#2a3f5f\",\"gridcolor\":\"white\",\"linecolor\":\"white\",\"minorgridcolor\":\"white\",\"startlinecolor\":\"#2a3f5f\"},\"baxis\":{\"endlinecolor\":\"#2a3f5f\",\"gridcolor\":\"white\",\"linecolor\":\"white\",\"minorgridcolor\":\"white\",\"startlinecolor\":\"#2a3f5f\"},\"type\":\"carpet\"}],\"table\":[{\"cells\":{\"fill\":{\"color\":\"#EBF0F8\"},\"line\":{\"color\":\"white\"}},\"header\":{\"fill\":{\"color\":\"#C8D4E3\"},\"line\":{\"color\":\"white\"}},\"type\":\"table\"}],\"barpolar\":[{\"marker\":{\"line\":{\"color\":\"#E5ECF6\",\"width\":0.5},\"pattern\":{\"fillmode\":\"overlay\",\"size\":10,\"solidity\":0.2}},\"type\":\"barpolar\"}],\"pie\":[{\"automargin\":true,\"type\":\"pie\"}]},\"layout\":{\"autotypenumbers\":\"strict\",\"colorway\":[\"#636efa\",\"#EF553B\",\"#00cc96\",\"#ab63fa\",\"#FFA15A\",\"#19d3f3\",\"#FF6692\",\"#B6E880\",\"#FF97FF\",\"#FECB52\"],\"font\":{\"color\":\"#2a3f5f\"},\"hovermode\":\"closest\",\"hoverlabel\":{\"align\":\"left\"},\"paper_bgcolor\":\"white\",\"plot_bgcolor\":\"#E5ECF6\",\"polar\":{\"bgcolor\":\"#E5ECF6\",\"angularaxis\":{\"gridcolor\":\"white\",\"linecolor\":\"white\",\"ticks\":\"\"},\"radialaxis\":{\"gridcolor\":\"white\",\"linecolor\":\"white\",\"ticks\":\"\"}},\"ternary\":{\"bgcolor\":\"#E5ECF6\",\"aaxis\":{\"gridcolor\":\"white\",\"linecolor\":\"white\",\"ticks\":\"\"},\"baxis\":{\"gridcolor\":\"white\",\"linecolor\":\"white\",\"ticks\":\"\"},\"caxis\":{\"gridcolor\":\"white\",\"linecolor\":\"white\",\"ticks\":\"\"}},\"coloraxis\":{\"colorbar\":{\"outlinewidth\":0,\"ticks\":\"\"}},\"colorscale\":{\"sequential\":[[0.0,\"#0d0887\"],[0.1111111111111111,\"#46039f\"],[0.2222222222222222,\"#7201a8\"],[0.3333333333333333,\"#9c179e\"],[0.4444444444444444,\"#bd3786\"],[0.5555555555555556,\"#d8576b\"],[0.6666666666666666,\"#ed7953\"],[0.7777777777777778,\"#fb9f3a\"],[0.8888888888888888,\"#fdca26\"],[1.0,\"#f0f921\"]],\"sequentialminus\":[[0.0,\"#0d0887\"],[0.1111111111111111,\"#46039f\"],[0.2222222222222222,\"#7201a8\"],[0.3333333333333333,\"#9c179e\"],[0.4444444444444444,\"#bd3786\"],[0.5555555555555556,\"#d8576b\"],[0.6666666666666666,\"#ed7953\"],[0.7777777777777778,\"#fb9f3a\"],[0.8888888888888888,\"#fdca26\"],[1.0,\"#f0f921\"]],\"diverging\":[[0,\"#8e0152\"],[0.1,\"#c51b7d\"],[0.2,\"#de77ae\"],[0.3,\"#f1b6da\"],[0.4,\"#fde0ef\"],[0.5,\"#f7f7f7\"],[0.6,\"#e6f5d0\"],[0.7,\"#b8e186\"],[0.8,\"#7fbc41\"],[0.9,\"#4d9221\"],[1,\"#276419\"]]},\"xaxis\":{\"gridcolor\":\"white\",\"linecolor\":\"white\",\"ticks\":\"\",\"title\":{\"standoff\":15},\"zerolinecolor\":\"white\",\"automargin\":true,\"zerolinewidth\":2},\"yaxis\":{\"gridcolor\":\"white\",\"linecolor\":\"white\",\"ticks\":\"\",\"title\":{\"standoff\":15},\"zerolinecolor\":\"white\",\"automargin\":true,\"zerolinewidth\":2},\"scene\":{\"xaxis\":{\"backgroundcolor\":\"#E5ECF6\",\"gridcolor\":\"white\",\"linecolor\":\"white\",\"showbackground\":true,\"ticks\":\"\",\"zerolinecolor\":\"white\",\"gridwidth\":2},\"yaxis\":{\"backgroundcolor\":\"#E5ECF6\",\"gridcolor\":\"white\",\"linecolor\":\"white\",\"showbackground\":true,\"ticks\":\"\",\"zerolinecolor\":\"white\",\"gridwidth\":2},\"zaxis\":{\"backgroundcolor\":\"#E5ECF6\",\"gridcolor\":\"white\",\"linecolor\":\"white\",\"showbackground\":true,\"ticks\":\"\",\"zerolinecolor\":\"white\",\"gridwidth\":2}},\"shapedefaults\":{\"line\":{\"color\":\"#2a3f5f\"}},\"annotationdefaults\":{\"arrowcolor\":\"#2a3f5f\",\"arrowhead\":0,\"arrowwidth\":1},\"geo\":{\"bgcolor\":\"white\",\"landcolor\":\"#E5ECF6\",\"subunitcolor\":\"white\",\"showland\":true,\"showlakes\":true,\"lakecolor\":\"white\"},\"title\":{\"x\":0.05},\"mapbox\":{\"style\":\"light\"}}},\"xaxis\":{\"anchor\":\"y\",\"domain\":[0.0,1.0],\"title\":{\"text\":\"Time\"}},\"yaxis\":{\"anchor\":\"x\",\"domain\":[0.0,1.0],\"title\":{\"text\":\"Temperature\"}},\"legend\":{\"title\":{\"text\":\"variable\"},\"tracegroupgap\":0},\"title\":{\"text\":\"Test Results\"}},                        {\"responsive\": true}                    ).then(function(){\n",
              "                            \n",
              "var gd = document.getElementById('623ab067-2ab3-4d27-a71e-075e64910f26');\n",
              "var x = new MutationObserver(function (mutations, observer) {{\n",
              "        var display = window.getComputedStyle(gd).display;\n",
              "        if (!display || display === 'none') {{\n",
              "            console.log([gd, 'removed!']);\n",
              "            Plotly.purge(gd);\n",
              "            observer.disconnect();\n",
              "        }}\n",
              "}});\n",
              "\n",
              "// Listen for the removal of the full notebook cells\n",
              "var notebookContainer = gd.closest('#notebook-container');\n",
              "if (notebookContainer) {{\n",
              "    x.observe(notebookContainer, {childList: true});\n",
              "}}\n",
              "\n",
              "// Listen for the clearing of the current output cell\n",
              "var outputEl = gd.closest('.output');\n",
              "if (outputEl) {{\n",
              "    x.observe(outputEl, {childList: true});\n",
              "}}\n",
              "\n",
              "                        })                };                            </script>        </div>\n",
              "</body>\n",
              "</html>"
            ]
          },
          "metadata": {}
        }
      ]
    },
    {
      "cell_type": "code",
      "source": [],
      "metadata": {
        "id": "uixtop9RWwpw"
      },
      "execution_count": null,
      "outputs": []
    }
  ]
}